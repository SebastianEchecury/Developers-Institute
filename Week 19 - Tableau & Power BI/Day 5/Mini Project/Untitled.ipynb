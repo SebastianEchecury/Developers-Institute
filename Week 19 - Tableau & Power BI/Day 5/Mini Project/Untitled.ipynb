{
 "cells": [
  {
   "cell_type": "code",
   "execution_count": 1,
   "id": "b9f83f28",
   "metadata": {},
   "outputs": [],
   "source": [
    "import pandas as pd"
   ]
  },
  {
   "cell_type": "code",
   "execution_count": 2,
   "id": "0cd8ac2d",
   "metadata": {},
   "outputs": [],
   "source": [
    "data = pd.read_csv('Datasources\\job_postings.csv')\n",
    "df = pd.DataFrame(data)"
   ]
  },
  {
   "cell_type": "code",
   "execution_count": 6,
   "id": "081aa024",
   "metadata": {},
   "outputs": [
    {
     "name": "stdout",
     "output_type": "stream",
     "text": [
      "['database', ' javascript', ' agile', ' linux', ' server', ' node.js', ' git', ' json', ' css', ' redis', ' java', ' aws', ' html', ' mysql', ' xml', ' sql', ' aurora', ' jquery']\n",
      "['data_lake', ' cloud', ' python', ' spark', ' github', ' warehousing', ' t-sql', ' ci/cd', ' sql', ' apache', ' azure', ' scala', ' coding']\n",
      "['mongo', ' oracle', ' microsoft', ' css', ' javascript', ' html', ' agile', ' mysql', ' coding', ' programming', ' hadoop', ' asp.net', ' sql', ' nosql', ' node', ' js', ' c']\n",
      "['agile', ' excel']\n",
      "['excel', ' back-end', ' ios', ' swift', ' programming']\n",
      "['data_lake', ' cloud', ' data_lakes', ' python', ' hadoop', ' devops', ' spark', ' iot', ' aws', ' pyspark', ' redshift', ' etl', ' sql', ' nosql', ' machine_learning']\n",
      "['database', ' pl/sql', ' cloud', ' javascript', ' agile', ' node.js', ' git', ' scrum', ' json', ' programming', ' devops', ' microsoft', ' java', ' xml', ' nosql', ' kanban', ' go', ' azure']\n",
      "['data_lake', ' database', ' python', ' hadoop', ' ibm', ' oracle', ' microsoft', ' sql']\n",
      "['python', ' programming', ' etl', ' postgresql', ' linux', ' sql', ' nosql', ' go']\n",
      "['r', ' scala', ' powershell', ' c++', ' java', ' python', ' tableau', ' sql', ' powerbi', ' c']\n",
      "['cloud', ' programming', ' microsoft', ' aws', ' go', ' azure']\n",
      "['outlook']\n",
      "['ci/cd', ' cloud', ' python', ' programming', ' linux', ' docker']\n",
      "['cloud', ' power_bi', ' python', ' gcp', ' programming', ' aws', ' sql', ' azure']\n",
      "['excel']\n",
      "['excel']\n",
      "['database', ' javascript', ' linux', ' server', ' c', ' oracle', ' aws', ' mysql', ' postgresql', ' sql', ' machine_learning']\n",
      "['sap', ' bi', ' ibm', ' saas', ' github', ' redshift', ' tableau', ' sql', ' atlassian', ' powerbi']\n",
      "['cloud', ' power_bi', ' agile', ' bi', ' tableau', ' etl', ' sql']\n"
     ]
    },
    {
     "ename": "AttributeError",
     "evalue": "'float' object has no attribute 'split'",
     "output_type": "error",
     "traceback": [
      "\u001b[1;31m---------------------------------------------------------------------------\u001b[0m",
      "\u001b[1;31mAttributeError\u001b[0m                            Traceback (most recent call last)",
      "Input \u001b[1;32mIn [6]\u001b[0m, in \u001b[0;36m<cell line: 1>\u001b[1;34m()\u001b[0m\n\u001b[0;32m      1\u001b[0m \u001b[38;5;28;01mfor\u001b[39;00m js \u001b[38;5;129;01min\u001b[39;00m df[\u001b[38;5;124m'\u001b[39m\u001b[38;5;124mJob Skills\u001b[39m\u001b[38;5;124m'\u001b[39m]:\n\u001b[1;32m----> 2\u001b[0m     \u001b[38;5;28mprint\u001b[39m(\u001b[43mjs\u001b[49m\u001b[38;5;241;43m.\u001b[39;49m\u001b[43msplit\u001b[49m(\u001b[38;5;124m'\u001b[39m\u001b[38;5;124m,\u001b[39m\u001b[38;5;124m'\u001b[39m))\n",
      "\u001b[1;31mAttributeError\u001b[0m: 'float' object has no attribute 'split'"
     ]
    }
   ],
   "source": [
    "skills_dict = dict()\n",
    "\n",
    "for js in df['Job Skills']:\n",
    "    skills = js.split(',')\n",
    "    if skills[0]:\n",
    "        if "
   ]
  },
  {
   "cell_type": "code",
   "execution_count": null,
   "id": "b787a353",
   "metadata": {},
   "outputs": [],
   "source": []
  }
 ],
 "metadata": {
  "kernelspec": {
   "display_name": "Python 3 (ipykernel)",
   "language": "python",
   "name": "python3"
  },
  "language_info": {
   "codemirror_mode": {
    "name": "ipython",
    "version": 3
   },
   "file_extension": ".py",
   "mimetype": "text/x-python",
   "name": "python",
   "nbconvert_exporter": "python",
   "pygments_lexer": "ipython3",
   "version": "3.9.12"
  }
 },
 "nbformat": 4,
 "nbformat_minor": 5
}
