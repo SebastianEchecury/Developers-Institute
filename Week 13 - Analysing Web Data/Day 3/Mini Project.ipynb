{
 "cells": [
  {
   "cell_type": "code",
   "execution_count": 1,
   "id": "02bae0d0",
   "metadata": {},
   "outputs": [],
   "source": [
    "from selenium import webdriver\n",
    "from selenium.webdriver.common.keys import Keys\n",
    "from selenium.webdriver.common.by import By\n",
    "from selenium.webdriver.support.ui import WebDriverWait\n",
    "from selenium.webdriver.support import expected_conditions as EC\n",
    "import pprint  # To tidy up\n",
    "from bs4 import BeautifulSoup"
   ]
  },
  {
   "cell_type": "code",
   "execution_count": 2,
   "id": "646c3834",
   "metadata": {},
   "outputs": [],
   "source": [
    "url = 'https://www.inmotionhosting.com/'"
   ]
  },
  {
   "cell_type": "code",
   "execution_count": 3,
   "id": "1176d7b4",
   "metadata": {},
   "outputs": [],
   "source": [
    "options = webdriver.ChromeOptions()\n",
    "options.add_argument('--headless')  # Run Chrome in headless mode\n",
    "options.add_argument(\"--no-sandbox\")  # Bypass OS security model\n",
    "options.add_argument(\"--disable-dev-shm-usage\")  # Overcome limited resource problems\n",
    "driver = webdriver.Chrome(options=options)"
   ]
  },
  {
   "cell_type": "code",
   "execution_count": 4,
   "id": "ce36763e",
   "metadata": {},
   "outputs": [],
   "source": [
    "driver.get(url)"
   ]
  },
  {
   "cell_type": "code",
   "execution_count": 5,
   "id": "a24e9c3c",
   "metadata": {},
   "outputs": [],
   "source": [
    "soup = BeautifulSoup(driver.page_source, 'html.parser')"
   ]
  },
  {
   "cell_type": "code",
   "execution_count": 54,
   "id": "988d9281",
   "metadata": {},
   "outputs": [],
   "source": [
    "hosting_plans = soup.find('div', class_='imh-rostrum-container')"
   ]
  },
  {
   "cell_type": "code",
   "execution_count": 58,
   "id": "51702804",
   "metadata": {},
   "outputs": [
    {
     "name": "stdout",
     "output_type": "stream",
     "text": [
      "{1: {'Plan': 'Shared Hosting', 'Price': '$3.19', 'Detail': 'Cost effective and fast for small businesses'}, 2: {'Plan': 'VPS Hosting', 'Price': '$9.99', 'Detail': 'For high traffic sites and larger businesses'}, 3: {'Plan': 'Dedicated Hosting', 'Price': '$35.00', 'Detail': 'For the largest sites and custom deployments'}, 4: {'Plan': 'cPanel WordPress', 'Price': '$3.69', 'Detail': 'Expertly tuned hosting with cPanel'}, 5: {'Plan': 'Platform InMotion', 'Price': '$11.67', 'Detail': 'High performance managed WordPress'}}\n"
     ]
    }
   ],
   "source": [
    "hp_dict = dict()\n",
    "aux = 1\n",
    "\n",
    "for hp in hosting_plans:\n",
    "    hp_d = dict()\n",
    "    plan = hp.find('h3', class_='h3 imh-rostrum-card-title').text\n",
    "    price = hp.find('span', class_='rostrum-price').text\n",
    "    detail = hp.find(\"div\", {\"class\": \"imh-rostrum-sub-title\"}).text\n",
    "    \n",
    "    hp_d['Plan'] = plan\n",
    "    hp_d['Price'] = price\n",
    "    hp_d['Detail'] = detail\n",
    "    \n",
    "    hp_dict[aux] = hp_d\n",
    "    aux +=1\n",
    "    \n",
    "print(hp_dict)"
   ]
  },
  {
   "cell_type": "code",
   "execution_count": null,
   "id": "7009b911",
   "metadata": {},
   "outputs": [],
   "source": []
  }
 ],
 "metadata": {
  "kernelspec": {
   "display_name": "Python 3 (ipykernel)",
   "language": "python",
   "name": "python3"
  },
  "language_info": {
   "codemirror_mode": {
    "name": "ipython",
    "version": 3
   },
   "file_extension": ".py",
   "mimetype": "text/x-python",
   "name": "python",
   "nbconvert_exporter": "python",
   "pygments_lexer": "ipython3",
   "version": "3.9.12"
  }
 },
 "nbformat": 4,
 "nbformat_minor": 5
}
