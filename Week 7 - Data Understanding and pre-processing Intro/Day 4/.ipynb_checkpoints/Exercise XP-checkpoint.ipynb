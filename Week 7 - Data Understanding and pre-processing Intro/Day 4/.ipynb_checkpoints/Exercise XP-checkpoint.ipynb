{
 "cells": [
  {
   "cell_type": "markdown",
   "id": "edebc3b0",
   "metadata": {},
   "source": [
    "<b>Exercise 1    "
   ]
  },
  {
   "cell_type": "markdown",
   "id": "8181d11a",
   "metadata": {},
   "source": [
    "Below are various data sources. Identify whether each one is an example of structured or unstructured data.\n",
    "\n",
    "1. A company’s financial reports stored in an Excel file. <b>STRUCTURED <br>\n",
    "2. Photographs uploaded to a social media platform. <b>UNSTRUCTURED <br> \n",
    "3. A collection of news articles on a website. <b>UNSTRUCTURED <br>\n",
    "4. Inventory data in a relational database. <b>STRUCTURED <br>\n",
    "5. Recorded interviews from a market research study. <b>UNSTRUCTURED <br>\n",
    "\n"
   ]
  },
  {
   "cell_type": "markdown",
   "id": "4063c33f",
   "metadata": {},
   "source": [
    "<b>Exercise 2"
   ]
  },
  {
   "cell_type": "markdown",
   "id": "cc5a9d33",
   "metadata": {},
   "source": [
    "For each of the following unstructured data sources, propose a method to convert it into structured data. Explain your reasoning.\n",
    "\n",
    "1. A series of blog posts about travel experiences. <br>\n",
    "2. Audio recordings of customer service calls. <br>\n",
    "3. Handwritten notes from a brainstorming session. <br>\n",
    "4. A video tutorial on cooking. <br>\n",
    "\n",
    "1) <br> Natural Language Processing (NLP) with named entity recognition (NER) and sentiment analysis. <br> LP can extract key information like locations (cities, countries), activities, costs, and travel dates using NER. Sentiment analysis can identify positive and negative aspects of the experience. This structured data can be used to recommend destinations, analyze travel trends, or improve user experiences. <br> \n",
    "\n",
    "\n",
    "2) <br> Speech-to-text conversion with sentiment analysis and keyword extraction. <br> Speech-to-text converts audio into text. Sentiment analysis identifies customer satisfaction, and keyword extraction can pinpoint recurring issues or topics. This structured data allows for analyzing customer concerns, improving service quality, and identifying training needs for customer service representatives. <br>\n",
    "\n",
    "3) <br> Optical Character Recognition (OCR) with clustering and topic modeling. <br> OCR converts handwritten notes into digital text. Clustering groups similar ideas together, while topic modeling identifies underlying themes from the brainstorming session. This structured data helps organize ideas, identify key themes, and track progress on brainstorming outcomes.\n",
    "\n",
    "4) <br> Computer vision with scene segmentation and speech recognition. <br>\n",
    "Computer vision can segment the video into scenes like chopping vegetables, cooking meat, or plating the dish. Speech recognition can capture the instructions provided throughout the video. This structured data allows for creating searchable recipe databases, generating automatic captions, or suggesting personalized recipe variations."
   ]
  },
  {
   "cell_type": "markdown",
   "id": "0647dc31",
   "metadata": {},
   "source": [
    "<b> Exercise 3"
   ]
  },
  {
   "cell_type": "markdown",
   "id": "63c9f8d2",
   "metadata": {},
   "source": [
    "You are a data analyst at a retail company. You have access to various data sources, including transaction records, customer feedback comments, social media posts about your brand, and employee work schedules. <br>\n",
    "\n",
    "Categorize each of these data sources as structured or unstructured. Suggest how you might use each type of data for improving the company’s business operations. <br>\n",
    "\n",
    "<b>Structured <br>\n",
    "Transaction records<br>\n",
    "Employee work schedules<br><br>\n",
    "\n",
    "<b>Unstructured <br>\n",
    "Customer feedback comments<br>\n",
    "social media posts"
   ]
  },
  {
   "cell_type": "markdown",
   "id": "14133561",
   "metadata": {},
   "source": [
    "<b> Exercise 4"
   ]
  },
  {
   "cell_type": "code",
   "execution_count": 9,
   "id": "f6db828c",
   "metadata": {},
   "outputs": [
    {
     "name": "stdout",
     "output_type": "stream",
     "text": [
      "Collecting faker\n",
      "  Downloading Faker-25.5.0-py3-none-any.whl (1.8 MB)\n",
      "Requirement already satisfied: python-dateutil>=2.4 in c:\\users\\lenovo\\anaconda3\\lib\\site-packages (from faker) (2.8.2)\n",
      "Requirement already satisfied: six>=1.5 in c:\\users\\lenovo\\anaconda3\\lib\\site-packages (from python-dateutil>=2.4->faker) (1.16.0)\n",
      "Installing collected packages: faker\n",
      "Successfully installed faker-25.5.0\n"
     ]
    }
   ],
   "source": [
    "!pip install faker"
   ]
  },
  {
   "cell_type": "code",
   "execution_count": 10,
   "id": "3431f3dc",
   "metadata": {},
   "outputs": [],
   "source": [
    "from faker import Faker\n",
    "import numpy as np\n",
    "import pandas as pd"
   ]
  },
  {
   "cell_type": "code",
   "execution_count": 11,
   "id": "8e753119",
   "metadata": {},
   "outputs": [
    {
     "name": "stdout",
     "output_type": "stream",
     "text": [
      "                 Name  Age  Salary  \\\n",
      "0       Melissa Klein   50    8828   \n",
      "1       Juan Buchanan   50    7312   \n",
      "2     Christine Avila   23    7774   \n",
      "3       Leonard Smith   63    7631   \n",
      "4     Kimberly Carter   64    6318   \n",
      "5        Joseph Baker   25   12076   \n",
      "6    Stephanie Wilson   66   10503   \n",
      "7     Danielle Brooks   64   10160   \n",
      "8  Jacqueline Gilbert   65    6640   \n",
      "9      Laura Schwartz   28   10778   \n",
      "\n",
      "                                             Address  \\\n",
      "0       772 Bianca Motorway\\nDonaldsonport, IL 22661   \n",
      "1              94152 West Cliff\\nCraigland, VA 50794   \n",
      "2    221 Calvin Park Apt. 872\\nSouth Janet, KY 61425   \n",
      "3             4635 Robin Ways\\nRobertburgh, TN 12112   \n",
      "4   16231 Sean Neck Apt. 545\\nLake Gregory, MO 48215   \n",
      "5         29152 Sydney Lane\\nEast Susanton, MP 92034   \n",
      "6           893 Thompson Square\\nDavidtown, FM 30360   \n",
      "7   57819 Graves Island\\nNew Ashleychester, PR 09360   \n",
      "8          2635 Kyle Ville\\nJessicachester, TN 69222   \n",
      "9  605 Brooks Station Suite 773\\nNew Jenniferstad...   \n",
      "\n",
      "                        Mail  \n",
      "0    christine64@example.net  \n",
      "1  jarvismichael@example.net  \n",
      "2   brooksronald@example.net  \n",
      "3   jacksonjanet@example.org  \n",
      "4  justinjohnson@example.net  \n",
      "5   smithallison@example.net  \n",
      "6    pughpatrick@example.org  \n",
      "7         lblair@example.org  \n",
      "8    ashleyevans@example.net  \n",
      "9     zmaldonado@example.net  \n"
     ]
    }
   ],
   "source": [
    "f = Faker()\n",
    "\n",
    "data = [(f.name(), np.random.randint(18, 70), np.random.randint(6000, 14000), f.address(), f.email()) for _ in range(100)]\n",
    "columns = ['Name', 'Age', 'Salary', 'Address', 'Mail']\n",
    "df = pd.DataFrame(data, columns=columns)\n",
    "print(df.head(10))"
   ]
  },
  {
   "cell_type": "markdown",
   "id": "218bff25",
   "metadata": {},
   "source": [
    "<b> Exercise 5\n",
    "    "
   ]
  },
  {
   "cell_type": "code",
   "execution_count": 44,
   "id": "de555690",
   "metadata": {},
   "outputs": [],
   "source": [
    "from PIL import Image, ImageEnhance\n",
    "from IPython.display import display\n",
    "import matplotlib.pyplot as plt\n",
    "\n",
    "dir = 'C:\\\\Users\\\\Lenovo\\\\Desktop\\\\Developers Institute\\\\Curso\\\\Data Understanding and pre-processing Intro\\\\Week 7\\\\Day 4\\\\'\n",
    "img1 = Image.open(dir + 'foto4.jpg')\n",
    "img2 = Image.open(dir + 'foto3.jpg')\n",
    "img3 = Image.open(dir + 'foto2.jpg').convert(\"RGB\")"
   ]
  },
  {
   "cell_type": "code",
   "execution_count": 49,
   "id": "47a88b30",
   "metadata": {},
   "outputs": [],
   "source": [
    "rotatedImage = img1.rotate(15) \n",
    "flipedImage = img1.rotate(180) \n",
    "img_enhancer = ImageEnhance.Brightness(img3)\n",
    "factor = 1.5\n",
    "brightedImage = img_enhancer.enhance(factor)\n"
   ]
  },
  {
   "cell_type": "code",
   "execution_count": 51,
   "id": "5907f144",
   "metadata": {},
   "outputs": [],
   "source": [
    "rotatedImage.save(dir + \"rotatedImage.jpg\")\n",
    "flipedImage.save(dir + \"flipedImage.jpg\")\n",
    "brightedImage.save(dir + \"brightedImage.jpg\")"
   ]
  },
  {
   "cell_type": "markdown",
   "id": "00f47f5f",
   "metadata": {},
   "source": [
    "<b> Exercise 6"
   ]
  },
  {
   "cell_type": "markdown",
   "id": "da11ee8e",
   "metadata": {},
   "source": [
    "Day - Zone - Time Range - qVehicles - avg Speed - holiday - qCrashes"
   ]
  },
  {
   "cell_type": "code",
   "execution_count": null,
   "id": "fb86577d",
   "metadata": {},
   "outputs": [],
   "source": []
  }
 ],
 "metadata": {
  "kernelspec": {
   "display_name": "Python 3 (ipykernel)",
   "language": "python",
   "name": "python3"
  },
  "language_info": {
   "codemirror_mode": {
    "name": "ipython",
    "version": 3
   },
   "file_extension": ".py",
   "mimetype": "text/x-python",
   "name": "python",
   "nbconvert_exporter": "python",
   "pygments_lexer": "ipython3",
   "version": "3.9.12"
  }
 },
 "nbformat": 4,
 "nbformat_minor": 5
}
