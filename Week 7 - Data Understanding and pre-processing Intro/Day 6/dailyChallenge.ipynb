{
 "cells": [
  {
   "cell_type": "code",
   "execution_count": 1,
   "id": "10ea5c57",
   "metadata": {},
   "outputs": [],
   "source": [
    "import pandas as pd"
   ]
  },
  {
   "cell_type": "markdown",
   "id": "028e6fae",
   "metadata": {},
   "source": [
    "<b> Data Loading"
   ]
  },
  {
   "cell_type": "code",
   "execution_count": 7,
   "id": "880b82b5",
   "metadata": {},
   "outputs": [],
   "source": [
    "headers=['sepal length','sepal width','petal length','petal width','class']\n",
    "irisData = pd.read_csv('C:\\\\Users\\\\Lenovo\\\\Desktop\\\\Developers Institute\\\\Curso\\\\Data Understanding and pre-processing Intro\\\\Week 7\\\\Day 6\\\\iris2.csv', names=headers)\n",
    "irisDF = pd.DataFrame(irisData)"
   ]
  },
  {
   "cell_type": "markdown",
   "id": "c2c4b74a",
   "metadata": {},
   "source": [
    "<b> Data Cleaning"
   ]
  },
  {
   "cell_type": "code",
   "execution_count": 9,
   "id": "072cbd20",
   "metadata": {},
   "outputs": [
    {
     "name": "stdout",
     "output_type": "stream",
     "text": [
      "sepal length    0\n",
      "sepal width     0\n",
      "petal length    0\n",
      "petal width     0\n",
      "class           0\n",
      "dtype: int64\n"
     ]
    }
   ],
   "source": [
    "#irisDF.isnull()\n",
    "missing_counts = irisDF.isnull().sum()\n",
    "print(missing_counts)"
   ]
  },
  {
   "cell_type": "markdown",
   "id": "9a8cfc40",
   "metadata": {},
   "source": [
    "<b> Export to excel"
   ]
  },
  {
   "cell_type": "code",
   "execution_count": 10,
   "id": "777e0d3a",
   "metadata": {},
   "outputs": [],
   "source": [
    "with pd.ExcelWriter('cleaned_iris.xlsx') as writer:  \n",
    "    irisDF.to_excel(writer, sheet_name='Sheet_name_1')\n",
    "   "
   ]
  },
  {
   "cell_type": "markdown",
   "id": "74bdc4bf",
   "metadata": {},
   "source": [
    "<b> Import from Excel"
   ]
  },
  {
   "cell_type": "code",
   "execution_count": 12,
   "id": "cdad6624",
   "metadata": {},
   "outputs": [],
   "source": [
    "irisData2 = pd.read_excel('C:\\\\Users\\\\Lenovo\\\\Desktop\\\\Developers Institute\\\\Curso\\\\Data Understanding and pre-processing Intro\\\\Week 7\\\\Day 6\\\\cleaned_iris.xlsx')\n",
    "irisDF2 = pd.DataFrame(irisData)"
   ]
  },
  {
   "cell_type": "code",
   "execution_count": 14,
   "id": "3420d1b0",
   "metadata": {},
   "outputs": [
    {
     "name": "stdout",
     "output_type": "stream",
     "text": [
      "Equals\n"
     ]
    }
   ],
   "source": [
    "if irisDF.equals(irisDF2):\n",
    "    print('Equals')\n",
    "else: \n",
    "    print('Not equals')"
   ]
  },
  {
   "cell_type": "markdown",
   "id": "5753fd96",
   "metadata": {},
   "source": [
    "<b> Save Subset to JSON"
   ]
  },
  {
   "cell_type": "code",
   "execution_count": 16,
   "id": "9064129c",
   "metadata": {},
   "outputs": [],
   "source": [
    "irisDF[1:10].to_json('iris_subset.json', orient='records')"
   ]
  },
  {
   "cell_type": "code",
   "execution_count": null,
   "id": "de080adf",
   "metadata": {},
   "outputs": [],
   "source": []
  }
 ],
 "metadata": {
  "kernelspec": {
   "display_name": "Python 3 (ipykernel)",
   "language": "python",
   "name": "python3"
  },
  "language_info": {
   "codemirror_mode": {
    "name": "ipython",
    "version": 3
   },
   "file_extension": ".py",
   "mimetype": "text/x-python",
   "name": "python",
   "nbconvert_exporter": "python",
   "pygments_lexer": "ipython3",
   "version": "3.9.12"
  }
 },
 "nbformat": 4,
 "nbformat_minor": 5
}
