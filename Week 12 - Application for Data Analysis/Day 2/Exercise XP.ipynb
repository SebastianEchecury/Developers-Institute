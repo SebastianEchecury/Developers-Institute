{
 "cells": [
  {
   "cell_type": "code",
   "execution_count": 6,
   "id": "7abc0056",
   "metadata": {},
   "outputs": [],
   "source": [
    "import numpy as np\n",
    "from scipy import stats\n",
    "import matplotlib.pyplot as plt\n",
    "from sklearn.linear_model import LinearRegression\n",
    "import pandas as pd\n",
    "from scipy.stats import binom\n",
    "from scipy.stats import pearsonr\n",
    "from scipy.stats import spearmanr\n",
    "\n",
    "\n",
    "#import statsmodels.api as sm\n",
    "#from statsmodels.stats.anova import anova"
   ]
  },
  {
   "cell_type": "markdown",
   "id": "4fd8ef42",
   "metadata": {},
   "source": [
    "<b>Exercise 1</b>"
   ]
  },
  {
   "cell_type": "code",
   "execution_count": 1,
   "id": "2dc9ef46",
   "metadata": {},
   "outputs": [],
   "source": [
    "house_sizes = [50, 70, 80, 100, 120]\n",
    "house_prices = [150000, 200000, 210000, 250000, 280000]"
   ]
  },
  {
   "cell_type": "code",
   "execution_count": 3,
   "id": "458658e6",
   "metadata": {},
   "outputs": [
    {
     "name": "stdout",
     "output_type": "stream",
     "text": [
      "Slope: 1828.7671232876712\n",
      "Intercept: 64383.56164383562\n"
     ]
    }
   ],
   "source": [
    "slope, intercept, r_value, p_value, std_err = stats.linregress(house_sizes, house_prices)\n",
    "\n",
    "# The slope and intercept of the regression line\n",
    "print(\"Slope:\", slope)\n",
    "print(\"Intercept:\", intercept)"
   ]
  },
  {
   "cell_type": "code",
   "execution_count": 7,
   "id": "bf1065b1",
   "metadata": {},
   "outputs": [
    {
     "data": {
      "image/png": "[encoded data removed]",
      "text/plain": [
       "<Figure size 432x288 with 1 Axes>"
      ]
     },
     "metadata": {
      "needs_background": "light"
     },
     "output_type": "display_data"
    }
   ],
   "source": [
    "x = np.array(house_sizes)\n",
    "y = np.array(house_prices)\n",
    "\n",
    "model = LinearRegression()\n",
    "model.fit(x[:, np.newaxis], y)\n",
    "\n",
    "# Obtener coeficientes\n",
    "b0 = model.intercept_\n",
    "b1 = model.coef_[0]\n",
    "\n",
    "# Generar línea de regresión\n",
    "y_pred = b0 + b1 * x\n",
    "\n",
    "# Graficar datos y línea de regresión\n",
    "plt.scatter(x, y)\n",
    "plt.plot(x, y_pred)\n",
    "plt.xlabel(\"X\")\n",
    "plt.ylabel(\"Y\")\n",
    "plt.show()"
   ]
  },
  {
   "cell_type": "markdown",
   "id": "c2c3f766",
   "metadata": {},
   "source": [
    "A big slope indicates a strong relationship between variables."
   ]
  },
  {
   "cell_type": "markdown",
   "id": "142cfef8",
   "metadata": {},
   "source": [
    "<b>Exercise 2</b>"
   ]
  },
  {
   "cell_type": "code",
   "execution_count": 8,
   "id": "38313221",
   "metadata": {},
   "outputs": [],
   "source": [
    "fertilizer_1 = [5, 6, 7, 6, 5]\n",
    "fertilizer_2 = [7, 8, 7, 9, 8]\n",
    "fertilizer_3 = [4, 5, 4, 3, 4]"
   ]
  },
  {
   "cell_type": "code",
   "execution_count": 9,
   "id": "c815a2a8",
   "metadata": {},
   "outputs": [
    {
     "name": "stdout",
     "output_type": "stream",
     "text": [
      "F-value: 28.52631578947368\n",
      "P-value: 2.7542672098048448e-05\n"
     ]
    }
   ],
   "source": [
    "f_value, p_value = stats.f_oneway(fertilizer_1, fertilizer_2, fertilizer_3)\n",
    "print(\"F-value:\", f_value)\n",
    "print(\"P-value:\", p_value)"
   ]
  },
  {
   "cell_type": "markdown",
   "id": "251b2c78",
   "metadata": {},
   "source": [
    "A big F value indicates how much the group differ from each other. In this case we have a big F value<br>\n",
    "The closest to 0 the P value is means the differences happened by chance"
   ]
  },
  {
   "cell_type": "code",
   "execution_count": 17,
   "id": "4d7fe819",
   "metadata": {},
   "outputs": [],
   "source": [
    "data = {\n",
    "    'fertilizer_1': fertilizer_1,\n",
    "    'fertilizer_2': fertilizer_2,\n",
    "    'fertilizer_3': fertilizer_3\n",
    "}\n",
    "\n",
    "df = pd.DataFrame(data)"
   ]
  },
  {
   "cell_type": "code",
   "execution_count": null,
   "id": "814e6430",
   "metadata": {},
   "outputs": [],
   "source": [
    "model = sm.ols('Yield ~ Fertilizer', data=df).fit()"
   ]
  },
  {
   "cell_type": "code",
   "execution_count": null,
   "id": "dafdb236",
   "metadata": {},
   "outputs": [],
   "source": [
    "anova_results = anova(model)\n",
    "print(anova_results)"
   ]
  },
  {
   "cell_type": "markdown",
   "id": "a7d0f6c8",
   "metadata": {},
   "source": [
    "<b>Exercise 3</b>"
   ]
  },
  {
   "cell_type": "code",
   "execution_count": 24,
   "id": "5e48cd7e",
   "metadata": {},
   "outputs": [
    {
     "name": "stdout",
     "output_type": "stream",
     "text": [
      "Probability of getting exactly 5 heads: 0.2461\n"
     ]
    }
   ],
   "source": [
    "n_trials = 10\n",
    "p_success = 0.5\n",
    "\n",
    "k_values = range(n_trials + 1)  \n",
    "probabilities = binom.pmf(k_values, n_trials, p_success)\n",
    "\n",
    "desired_successes = 5\n",
    "print(f\"Probability of getting exactly {desired_successes} heads: {probabilities[desired_successes]:.4f}\")"
   ]
  },
  {
   "cell_type": "markdown",
   "id": "91aac10f",
   "metadata": {},
   "source": [
    "<b>Exercise 4</b>"
   ]
  },
  {
   "cell_type": "code",
   "execution_count": 4,
   "id": "7cbb568c",
   "metadata": {},
   "outputs": [],
   "source": [
    "data = pd.DataFrame({'age': [23, 25, 30, 35, 40], 'income': [35000, 40000, 50000, 60000, 70000]})"
   ]
  },
  {
   "cell_type": "code",
   "execution_count": 5,
   "id": "de0bb9ed",
   "metadata": {},
   "outputs": [
    {
     "name": "stdout",
     "output_type": "stream",
     "text": [
      "Pearson Correlation Coefficient: 1.00\n"
     ]
    }
   ],
   "source": [
    "corr, _ = pearsonr(data['age'], data['income'])\n",
    "print(f'Pearson Correlation Coefficient: {corr:.2f}')"
   ]
  },
  {
   "cell_type": "markdown",
   "id": "e0f2f95f",
   "metadata": {},
   "source": [
    "1 indicates a perfect positive linear relationship<br>\n",
    "It suggests that older people earn more "
   ]
  },
  {
   "cell_type": "code",
   "execution_count": 8,
   "id": "9f89bccb",
   "metadata": {},
   "outputs": [
    {
     "name": "stdout",
     "output_type": "stream",
     "text": [
      "Spearman Rank Correlation: 1.00\n"
     ]
    }
   ],
   "source": [
    "corr, _ = spearmanr(data['age'], data['income'])\n",
    "print(f'Spearman Rank Correlation: {corr:.2f}')"
   ]
  },
  {
   "cell_type": "markdown",
   "id": "11131812",
   "metadata": {},
   "source": [
    "Perfect positive correlation. <br>As one variable increases, the other also increases."
   ]
  },
  {
   "cell_type": "markdown",
   "id": "d037420b",
   "metadata": {},
   "source": [
    "<b>Exercise 5</b>"
   ]
  },
  {
   "cell_type": "code",
   "execution_count": 9,
   "id": "2a226e88",
   "metadata": {},
   "outputs": [],
   "source": [
    "data = pd.DataFrame({'age': [23, 25, 30, 35, 40], 'income': [35000, 40000, 50000, 60000, 70000]})"
   ]
  },
  {
   "cell_type": "code",
   "execution_count": 10,
   "id": "76590db7",
   "metadata": {},
   "outputs": [
    {
     "data": {
      "image/png": "[encoded data removed]",
      "text/plain": [
       "<Figure size 720x432 with 1 Axes>"
      ]
     },
     "metadata": {
      "needs_background": "light"
     },
     "output_type": "display_data"
    }
   ],
   "source": [
    "plt.figure(figsize=(10, 6))\n",
    "plt.scatter(data['age'], data['income'])\n",
    "\n",
    "plt.xlabel(\"Age (Years)\")\n",
    "plt.ylabel(\"Income (USD)\")\n",
    "plt.title(\"Scatter Plot of Age vs. Income\")\n",
    "\n",
    "# Display plot\n",
    "plt.grid(True)\n",
    "plt.show()"
   ]
  },
  {
   "cell_type": "code",
   "execution_count": null,
   "id": "4c7eb246",
   "metadata": {},
   "outputs": [],
   "source": []
  }
 ],
 "metadata": {
  "kernelspec": {
   "display_name": "Python 3 (ipykernel)",
   "language": "python",
   "name": "python3"
  },
  "language_info": {
   "codemirror_mode": {
    "name": "ipython",
    "version": 3
   },
   "file_extension": ".py",
   "mimetype": "text/x-python",
   "name": "python",
   "nbconvert_exporter": "python",
   "pygments_lexer": "ipython3",
   "version": "3.9.12"
  }
 },
 "nbformat": 4,
 "nbformat_minor": 5
}
