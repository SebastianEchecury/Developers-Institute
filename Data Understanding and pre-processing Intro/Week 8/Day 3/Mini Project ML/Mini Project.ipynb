{
 "cells": [
  {
   "cell_type": "code",
   "execution_count": 32,
   "id": "c9491075",
   "metadata": {},
   "outputs": [],
   "source": [
    "import pandas as pd\n",
    "import numpy as np"
   ]
  },
  {
   "cell_type": "code",
   "execution_count": 56,
   "id": "fba1f335",
   "metadata": {},
   "outputs": [
    {
     "name": "stdout",
     "output_type": "stream",
     "text": [
      "<class 'pandas.core.frame.DataFrame'>\n",
      "RangeIndex: 1259 entries, 0 to 1258\n",
      "Data columns (total 27 columns):\n",
      " #   Column                     Non-Null Count  Dtype \n",
      "---  ------                     --------------  ----- \n",
      " 0   Timestamp                  1259 non-null   object\n",
      " 1   Age                        1259 non-null   int64 \n",
      " 2   Gender                     1259 non-null   object\n",
      " 3   Country                    1259 non-null   object\n",
      " 4   state                      744 non-null    object\n",
      " 5   self_employed              1241 non-null   object\n",
      " 6   family_history             1259 non-null   object\n",
      " 7   treatment                  1259 non-null   object\n",
      " 8   work_interfere             995 non-null    object\n",
      " 9   no_employees               1259 non-null   object\n",
      " 10  remote_work                1259 non-null   object\n",
      " 11  tech_company               1259 non-null   object\n",
      " 12  benefits                   1259 non-null   object\n",
      " 13  care_options               1259 non-null   object\n",
      " 14  wellness_program           1259 non-null   object\n",
      " 15  seek_help                  1259 non-null   object\n",
      " 16  anonymity                  1259 non-null   object\n",
      " 17  leave                      1259 non-null   object\n",
      " 18  mental_health_consequence  1259 non-null   object\n",
      " 19  phys_health_consequence    1259 non-null   object\n",
      " 20  coworkers                  1259 non-null   object\n",
      " 21  supervisor                 1259 non-null   object\n",
      " 22  mental_health_interview    1259 non-null   object\n",
      " 23  phys_health_interview      1259 non-null   object\n",
      " 24  mental_vs_physical         1259 non-null   object\n",
      " 25  obs_consequence            1259 non-null   object\n",
      " 26  comments                   164 non-null    object\n",
      "dtypes: int64(1), object(26)\n",
      "memory usage: 265.7+ KB\n"
     ]
    }
   ],
   "source": [
    "data = pd.read_csv('survey.csv')\n",
    "df = pd.DataFrame(data)\n",
    "df.info()"
   ]
  },
  {
   "cell_type": "code",
   "execution_count": 57,
   "id": "74656c74",
   "metadata": {},
   "outputs": [
    {
     "data": {
      "text/html": [
       "<div>\n",
       "<style scoped>\n",
       "    .dataframe tbody tr th:only-of-type {\n",
       "        vertical-align: middle;\n",
       "    }\n",
       "\n",
       "    .dataframe tbody tr th {\n",
       "        vertical-align: top;\n",
       "    }\n",
       "\n",
       "    .dataframe thead th {\n",
       "        text-align: right;\n",
       "    }\n",
       "</style>\n",
       "<table border=\"1\" class=\"dataframe\">\n",
       "  <thead>\n",
       "    <tr style=\"text-align: right;\">\n",
       "      <th></th>\n",
       "      <th>Timestamp</th>\n",
       "      <th>Age</th>\n",
       "      <th>Gender</th>\n",
       "      <th>Country</th>\n",
       "      <th>state</th>\n",
       "      <th>self_employed</th>\n",
       "      <th>family_history</th>\n",
       "      <th>treatment</th>\n",
       "      <th>work_interfere</th>\n",
       "      <th>no_employees</th>\n",
       "      <th>...</th>\n",
       "      <th>leave</th>\n",
       "      <th>mental_health_consequence</th>\n",
       "      <th>phys_health_consequence</th>\n",
       "      <th>coworkers</th>\n",
       "      <th>supervisor</th>\n",
       "      <th>mental_health_interview</th>\n",
       "      <th>phys_health_interview</th>\n",
       "      <th>mental_vs_physical</th>\n",
       "      <th>obs_consequence</th>\n",
       "      <th>comments</th>\n",
       "    </tr>\n",
       "  </thead>\n",
       "  <tbody>\n",
       "    <tr>\n",
       "      <th>0</th>\n",
       "      <td>2014-08-27 11:29:31</td>\n",
       "      <td>37</td>\n",
       "      <td>Female</td>\n",
       "      <td>United States</td>\n",
       "      <td>IL</td>\n",
       "      <td>NaN</td>\n",
       "      <td>No</td>\n",
       "      <td>Yes</td>\n",
       "      <td>Often</td>\n",
       "      <td>6-25</td>\n",
       "      <td>...</td>\n",
       "      <td>Somewhat easy</td>\n",
       "      <td>No</td>\n",
       "      <td>No</td>\n",
       "      <td>Some of them</td>\n",
       "      <td>Yes</td>\n",
       "      <td>No</td>\n",
       "      <td>Maybe</td>\n",
       "      <td>Yes</td>\n",
       "      <td>No</td>\n",
       "      <td>NaN</td>\n",
       "    </tr>\n",
       "  </tbody>\n",
       "</table>\n",
       "<p>1 rows × 27 columns</p>\n",
       "</div>"
      ],
      "text/plain": [
       "             Timestamp  Age  Gender        Country state self_employed  \\\n",
       "0  2014-08-27 11:29:31   37  Female  United States    IL           NaN   \n",
       "\n",
       "  family_history treatment work_interfere no_employees  ...          leave  \\\n",
       "0             No       Yes          Often         6-25  ...  Somewhat easy   \n",
       "\n",
       "  mental_health_consequence phys_health_consequence     coworkers supervisor  \\\n",
       "0                        No                      No  Some of them        Yes   \n",
       "\n",
       "  mental_health_interview phys_health_interview mental_vs_physical  \\\n",
       "0                      No                 Maybe                Yes   \n",
       "\n",
       "  obs_consequence comments  \n",
       "0              No      NaN  \n",
       "\n",
       "[1 rows x 27 columns]"
      ]
     },
     "execution_count": 57,
     "metadata": {},
     "output_type": "execute_result"
    }
   ],
   "source": [
    "df.head(1)"
   ]
  },
  {
   "cell_type": "code",
   "execution_count": 58,
   "id": "7a7d1e5a",
   "metadata": {},
   "outputs": [
    {
     "name": "stdout",
     "output_type": "stream",
     "text": [
      "Timestamp                       0\n",
      "Age                             0\n",
      "Gender                          0\n",
      "Country                         0\n",
      "state                         515\n",
      "self_employed                  18\n",
      "family_history                  0\n",
      "treatment                       0\n",
      "work_interfere                264\n",
      "no_employees                    0\n",
      "remote_work                     0\n",
      "tech_company                    0\n",
      "benefits                        0\n",
      "care_options                    0\n",
      "wellness_program                0\n",
      "seek_help                       0\n",
      "anonymity                       0\n",
      "leave                           0\n",
      "mental_health_consequence       0\n",
      "phys_health_consequence         0\n",
      "coworkers                       0\n",
      "supervisor                      0\n",
      "mental_health_interview         0\n",
      "phys_health_interview           0\n",
      "mental_vs_physical              0\n",
      "obs_consequence                 0\n",
      "comments                     1095\n",
      "dtype: int64\n"
     ]
    }
   ],
   "source": [
    "missing_counts = df.isnull().sum()\n",
    "print(missing_counts)"
   ]
  },
  {
   "cell_type": "code",
   "execution_count": 59,
   "id": "f6d4408d",
   "metadata": {},
   "outputs": [],
   "source": [
    "df = df.drop(['comments'], axis=1)\n",
    "df = df.drop(['work_interfere'], axis=1)\n",
    "df = df.drop(['state'], axis=1)"
   ]
  },
  {
   "cell_type": "code",
   "execution_count": 60,
   "id": "51d14b9f",
   "metadata": {},
   "outputs": [
    {
     "name": "stdout",
     "output_type": "stream",
     "text": [
      "No     1095\n",
      "Yes     146\n",
      "Name: self_employed, dtype: int64\n"
     ]
    }
   ],
   "source": [
    "print(df['self_employed'].value_counts())"
   ]
  },
  {
   "cell_type": "code",
   "execution_count": 61,
   "id": "a39cad90",
   "metadata": {},
   "outputs": [],
   "source": [
    "mode = df['self_employed'].mode().values[0]\n",
    "df['self_employed'].fillna(mode, inplace = True)"
   ]
  },
  {
   "cell_type": "code",
   "execution_count": 62,
   "id": "2321e99c",
   "metadata": {},
   "outputs": [
    {
     "name": "stdout",
     "output_type": "stream",
     "text": [
      "Timestamp                    0\n",
      "Age                          0\n",
      "Gender                       0\n",
      "Country                      0\n",
      "self_employed                0\n",
      "family_history               0\n",
      "treatment                    0\n",
      "no_employees                 0\n",
      "remote_work                  0\n",
      "tech_company                 0\n",
      "benefits                     0\n",
      "care_options                 0\n",
      "wellness_program             0\n",
      "seek_help                    0\n",
      "anonymity                    0\n",
      "leave                        0\n",
      "mental_health_consequence    0\n",
      "phys_health_consequence      0\n",
      "coworkers                    0\n",
      "supervisor                   0\n",
      "mental_health_interview      0\n",
      "phys_health_interview        0\n",
      "mental_vs_physical           0\n",
      "obs_consequence              0\n",
      "dtype: int64\n"
     ]
    }
   ],
   "source": [
    "print(df.isnull().sum())"
   ]
  },
  {
   "cell_type": "code",
   "execution_count": 63,
   "id": "b63fff67",
   "metadata": {},
   "outputs": [
    {
     "name": "stdout",
     "output_type": "stream",
     "text": [
      "Timestamp\n",
      "['2014-08-27 11:29:31' '2014-08-27 11:29:37' '2014-08-27 11:29:44' ...\n",
      " '2015-11-07 12:36:58' '2015-11-30 21:25:06' '2016-02-01 23:04:31']\n",
      "\n",
      "Age\n",
      "[         37          44          32          31          33          35\n",
      "          39          42          23          29          36          27\n",
      "          46          41          34          30          40          38\n",
      "          50          24          18          28          26          22\n",
      "          19          25          45          21         -29          43\n",
      "          56          60          54         329          55 99999999999\n",
      "          48          20          57          58          47          62\n",
      "          51          65          49       -1726           5          53\n",
      "          61           8          11          -1          72]\n",
      "\n",
      "Gender\n",
      "['Female' 'M' 'Male' 'male' 'female' 'm' 'Male-ish' 'maile' 'Trans-female'\n",
      " 'Cis Female' 'F' 'something kinda male?' 'Cis Male' 'Woman' 'f' 'Mal'\n",
      " 'Male (CIS)' 'queer/she/they' 'non-binary' 'Femake' 'woman' 'Make' 'Nah'\n",
      " 'All' 'Enby' 'fluid' 'Genderqueer' 'Female ' 'Androgyne' 'Agender'\n",
      " 'cis-female/femme' 'Guy (-ish) ^_^' 'male leaning androgynous' 'Male '\n",
      " 'Man' 'Trans woman' 'msle' 'Neuter' 'Female (trans)' 'queer'\n",
      " 'Female (cis)' 'Mail' 'cis male' 'A little about you' 'Malr' 'p' 'femail'\n",
      " 'Cis Man' 'ostensibly male, unsure what that really means']\n",
      "\n",
      "Country\n",
      "['United States' 'Canada' 'United Kingdom' 'Bulgaria' 'France' 'Portugal'\n",
      " 'Netherlands' 'Switzerland' 'Poland' 'Australia' 'Germany' 'Russia'\n",
      " 'Mexico' 'Brazil' 'Slovenia' 'Costa Rica' 'Austria' 'Ireland' 'India'\n",
      " 'South Africa' 'Italy' 'Sweden' 'Colombia' 'Latvia' 'Romania' 'Belgium'\n",
      " 'New Zealand' 'Zimbabwe' 'Spain' 'Finland' 'Uruguay' 'Israel'\n",
      " 'Bosnia and Herzegovina' 'Hungary' 'Singapore' 'Japan' 'Nigeria'\n",
      " 'Croatia' 'Norway' 'Thailand' 'Denmark' 'Bahamas, The' 'Greece' 'Moldova'\n",
      " 'Georgia' 'China' 'Czech Republic' 'Philippines']\n",
      "\n",
      "self_employed\n",
      "['No' 'Yes']\n",
      "\n",
      "family_history\n",
      "['No' 'Yes']\n",
      "\n",
      "treatment\n",
      "['Yes' 'No']\n",
      "\n",
      "no_employees\n",
      "['6-25' 'More than 1000' '26-100' '100-500' '1-5' '500-1000']\n",
      "\n",
      "remote_work\n",
      "['No' 'Yes']\n",
      "\n",
      "tech_company\n",
      "['Yes' 'No']\n",
      "\n",
      "benefits\n",
      "['Yes' \"Don't know\" 'No']\n",
      "\n",
      "care_options\n",
      "['Not sure' 'No' 'Yes']\n",
      "\n",
      "wellness_program\n",
      "['No' \"Don't know\" 'Yes']\n",
      "\n",
      "seek_help\n",
      "['Yes' \"Don't know\" 'No']\n",
      "\n",
      "anonymity\n",
      "['Yes' \"Don't know\" 'No']\n",
      "\n",
      "leave\n",
      "['Somewhat easy' \"Don't know\" 'Somewhat difficult' 'Very difficult'\n",
      " 'Very easy']\n",
      "\n",
      "mental_health_consequence\n",
      "['No' 'Maybe' 'Yes']\n",
      "\n",
      "phys_health_consequence\n",
      "['No' 'Yes' 'Maybe']\n",
      "\n",
      "coworkers\n",
      "['Some of them' 'No' 'Yes']\n",
      "\n",
      "supervisor\n",
      "['Yes' 'No' 'Some of them']\n",
      "\n",
      "mental_health_interview\n",
      "['No' 'Yes' 'Maybe']\n",
      "\n",
      "phys_health_interview\n",
      "['Maybe' 'No' 'Yes']\n",
      "\n",
      "mental_vs_physical\n",
      "['Yes' \"Don't know\" 'No']\n",
      "\n",
      "obs_consequence\n",
      "['No' 'Yes']\n",
      "\n"
     ]
    }
   ],
   "source": [
    "for row in list(df.columns.values):\n",
    "    print(row)\n",
    "    print(df[row].unique())\n",
    "    print()"
   ]
  },
  {
   "cell_type": "code",
   "execution_count": 64,
   "id": "ebd1a09a",
   "metadata": {},
   "outputs": [],
   "source": [
    "# Age replacement\n",
    "replace_value = df['Age'].mode()\n",
    "\n",
    "df.loc[df['Age'] > 100, 'Age'] = replace_value\n",
    "df.loc[df['Age'] < 0, 'Age'] = replace_value"
   ]
  },
  {
   "cell_type": "code",
   "execution_count": 65,
   "id": "48248159",
   "metadata": {},
   "outputs": [
    {
     "name": "stdout",
     "output_type": "stream",
     "text": [
      "Male                                              615\n",
      "male                                              206\n",
      "Female                                            121\n",
      "M                                                 116\n",
      "female                                             62\n",
      "F                                                  38\n",
      "m                                                  34\n",
      "f                                                  15\n",
      "Make                                                4\n",
      "Male                                                3\n",
      "Woman                                               3\n",
      "Cis Male                                            2\n",
      "Man                                                 2\n",
      "Female (trans)                                      2\n",
      "Female                                              2\n",
      "Trans woman                                         1\n",
      "msle                                                1\n",
      "male leaning androgynous                            1\n",
      "Neuter                                              1\n",
      "cis male                                            1\n",
      "queer                                               1\n",
      "Female (cis)                                        1\n",
      "Mail                                                1\n",
      "cis-female/femme                                    1\n",
      "A little about you                                  1\n",
      "Malr                                                1\n",
      "p                                                   1\n",
      "femail                                              1\n",
      "Cis Man                                             1\n",
      "Guy (-ish) ^_^                                      1\n",
      "Enby                                                1\n",
      "Agender                                             1\n",
      "Androgyne                                           1\n",
      "Male-ish                                            1\n",
      "maile                                               1\n",
      "Trans-female                                        1\n",
      "Cis Female                                          1\n",
      "something kinda male?                               1\n",
      "Mal                                                 1\n",
      "Male (CIS)                                          1\n",
      "queer/she/they                                      1\n",
      "non-binary                                          1\n",
      "Femake                                              1\n",
      "woman                                               1\n",
      "Nah                                                 1\n",
      "All                                                 1\n",
      "fluid                                               1\n",
      "Genderqueer                                         1\n",
      "ostensibly male, unsure what that really means      1\n",
      "Name: Gender, dtype: int64\n"
     ]
    }
   ],
   "source": [
    "print(df['Gender'].value_counts())"
   ]
  },
  {
   "cell_type": "code",
   "execution_count": 66,
   "id": "19b8529a",
   "metadata": {},
   "outputs": [],
   "source": [
    "def replace_male(value):\n",
    "  if value in ['male', 'M', 'm', 'Make', 'Man']:\n",
    "    return 'Male'\n",
    "  else:\n",
    "    return value\n",
    "\n",
    "def replace_female(value):\n",
    "  if value in ['female', 'F', 'f', 'Woman', 'Man']:\n",
    "    return 'Female'\n",
    "  else:\n",
    "    return value\n",
    "\n",
    "df['Gender'] = df['Gender'].map(replace_male)\n",
    "df['Gender'] = df['Gender'].map(replace_female)"
   ]
  },
  {
   "cell_type": "code",
   "execution_count": 67,
   "id": "5da07195",
   "metadata": {},
   "outputs": [
    {
     "name": "stdout",
     "output_type": "stream",
     "text": [
      "Male                                              977\n",
      "Female                                            239\n",
      "Male                                                3\n",
      "Female (trans)                                      2\n",
      "Female                                              2\n",
      "Cis Male                                            2\n",
      "Cis Man                                             1\n",
      "Guy (-ish) ^_^                                      1\n",
      "male leaning androgynous                            1\n",
      "Trans woman                                         1\n",
      "msle                                                1\n",
      "Neuter                                              1\n",
      "queer                                               1\n",
      "femail                                              1\n",
      "cis-female/femme                                    1\n",
      "Mail                                                1\n",
      "cis male                                            1\n",
      "A little about you                                  1\n",
      "Malr                                                1\n",
      "p                                                   1\n",
      "Female (cis)                                        1\n",
      "Androgyne                                           1\n",
      "Agender                                             1\n",
      "Genderqueer                                         1\n",
      "Male-ish                                            1\n",
      "maile                                               1\n",
      "Trans-female                                        1\n",
      "Cis Female                                          1\n",
      "something kinda male?                               1\n",
      "Mal                                                 1\n",
      "Male (CIS)                                          1\n",
      "queer/she/they                                      1\n",
      "non-binary                                          1\n",
      "Femake                                              1\n",
      "woman                                               1\n",
      "Nah                                                 1\n",
      "All                                                 1\n",
      "Enby                                                1\n",
      "fluid                                               1\n",
      "ostensibly male, unsure what that really means      1\n",
      "Name: Gender, dtype: int64\n"
     ]
    }
   ],
   "source": [
    "print(df['Gender'].value_counts())"
   ]
  },
  {
   "cell_type": "code",
   "execution_count": 72,
   "id": "e1c3b38a",
   "metadata": {},
   "outputs": [],
   "source": [
    "df.loc[~df['Gender'].isin(['Male', 'Female']), 'Gender'] = np.nan"
   ]
  },
  {
   "cell_type": "markdown",
   "id": "be57742b",
   "metadata": {},
   "source": [
    "<b>What is the distribution of mental health conditions among different age groups in the tech industry?"
   ]
  },
  {
   "cell_type": "code",
   "execution_count": 77,
   "id": "1d6bb65e",
   "metadata": {},
   "outputs": [],
   "source": [
    "bins = [0, 20, 40, 60, 80] \n",
    "labels = ['0-20', '21-40', '41-60', '60+']\n",
    "df['Age_group'] = pd.cut(df['Age'], bins=bins, labels=labels)"
   ]
  },
  {
   "cell_type": "code",
   "execution_count": 133,
   "id": "5ef70f84",
   "metadata": {},
   "outputs": [
    {
     "name": "stdout",
     "output_type": "stream",
     "text": [
      "mental_health_consequence\n",
      "Age_group  mental_health_consequence\n",
      "0-20       No                           59.090909\n",
      "           Yes                          27.272727\n",
      "           Maybe                        13.636364\n",
      "21-40      No                           42.105263\n",
      "           Maybe                        36.954087\n",
      "           Yes                          20.940649\n",
      "41-60      Maybe                        36.936937\n",
      "           No                           36.936937\n",
      "           Yes                          26.126126\n",
      "60+        Maybe                        50.000000\n",
      "           Yes                          50.000000\n",
      "Name: mental_health_consequence, dtype: float64\n"
     ]
    }
   ],
   "source": [
    "columns = ['Age_group', 'mental_health_consequence']#, 'phys_health_consequence', 'mental_health_interview', 'phys_health_interview', 'mental_vs_physical']\n",
    "df_tech = df.loc[df['tech_company'] == 'Yes'] \n",
    "df_tech = df_tech[columns]\n",
    "#print(df_tech.head())\n",
    "\n",
    "for col in columns:\n",
    "    if col != 'Age_group':\n",
    "        print(col)\n",
    "        print(df_tech.groupby('Age_group')[col].value_counts(normalize=True) * 100)"
   ]
  },
  {
   "cell_type": "markdown",
   "id": "1c1c9853",
   "metadata": {},
   "source": [
    "<b>How does the frequency of mental health issues vary by gender?"
   ]
  },
  {
   "cell_type": "code",
   "execution_count": 132,
   "id": "b33bf23c",
   "metadata": {},
   "outputs": [
    {
     "name": "stdout",
     "output_type": "stream",
     "text": [
      "mental_health_consequence\n",
      "Gender  mental_health_consequence\n",
      "Female  Maybe                        43.514644\n",
      "        No                           29.707113\n",
      "        Yes                          26.778243\n",
      "Male    No                           41.965200\n",
      "        Maybe                        36.438076\n",
      "        Yes                          21.596725\n",
      "Name: mental_health_consequence, dtype: float64\n"
     ]
    }
   ],
   "source": [
    "columns = ['Gender', 'mental_health_consequence']#, 'phys_health_consequence', 'mental_health_interview', 'phys_health_interview', 'mental_vs_physical']\n",
    "df_gender = df[columns]\n",
    "\n",
    "for col in columns:\n",
    "    if col != 'Gender':\n",
    "        print(col)\n",
    "        print(df_gender.groupby('Gender')[col].value_counts(normalize=True) * 100)\n",
    "        "
   ]
  },
  {
   "cell_type": "markdown",
   "id": "3613a8ef",
   "metadata": {},
   "source": [
    "<b>Identify the countries with the highest and lowest reported rates of mental health issues in the tech industry."
   ]
  },
  {
   "cell_type": "code",
   "execution_count": 131,
   "id": "a936c089",
   "metadata": {},
   "outputs": [
    {
     "name": "stdout",
     "output_type": "stream",
     "text": [
      "United States\n",
      "Bahamas, The\n"
     ]
    }
   ],
   "source": [
    "columns = ['Country', 'mental_health_consequence']#, 'phys_health_consequence', 'mental_health_interview', 'phys_health_interview', 'mental_vs_physical']\n",
    "df_country = df.loc[df['tech_company'] == 'Yes'] \n",
    "df_country = df[columns]\n",
    "\n",
    "df_country_aux = pd.DataFrame(df_country.loc[df_country['mental_health_consequence'] == 'Yes'].groupby('Country')[col].agg('count'))\n",
    "\n",
    "max_row = df_country_aux['mental_health_consequence'].idxmax()\n",
    "print(max_row)\n",
    "\n",
    "min_row = df_country_aux['mental_health_consequence'].idxmin()\n",
    "print(min_row)"
   ]
  },
  {
   "cell_type": "code",
   "execution_count": null,
   "id": "91204353",
   "metadata": {},
   "outputs": [],
   "source": []
  }
 ],
 "metadata": {
  "kernelspec": {
   "display_name": "Python 3 (ipykernel)",
   "language": "python",
   "name": "python3"
  },
  "language_info": {
   "codemirror_mode": {
    "name": "ipython",
    "version": 3
   },
   "file_extension": ".py",
   "mimetype": "text/x-python",
   "name": "python",
   "nbconvert_exporter": "python",
   "pygments_lexer": "ipython3",
   "version": "3.9.12"
  }
 },
 "nbformat": 4,
 "nbformat_minor": 5
}
