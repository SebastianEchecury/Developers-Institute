{
 "cells": [
  {
   "cell_type": "code",
   "execution_count": 1,
   "id": "73ac1757",
   "metadata": {},
   "outputs": [],
   "source": [
    "import numpy as np"
   ]
  },
  {
   "cell_type": "markdown",
   "id": "ff9c97d3",
   "metadata": {},
   "source": [
    "<b>Exercise 1</b>"
   ]
  },
  {
   "cell_type": "code",
   "execution_count": 22,
   "id": "a8c1f4ee",
   "metadata": {},
   "outputs": [
    {
     "data": {
      "text/plain": [
       "array([[ 4, -2,  6],\n",
       "       [ 4, -2,  2],\n",
       "       [ 6,  7, -3]])"
      ]
     },
     "execution_count": 22,
     "metadata": {},
     "output_type": "execute_result"
    }
   ],
   "source": [
    "array = np.array(np.random.randint(-5, 10, 9)).reshape(3, 3)\n",
    "array"
   ]
  },
  {
   "cell_type": "markdown",
   "id": "b913cfb2",
   "metadata": {},
   "source": [
    "determinant = np.linalg.det(array)\n",
    "print(f\"Determinant: {determinant}\")"
   ]
  },
  {
   "cell_type": "code",
   "execution_count": 24,
   "id": "29d95d40",
   "metadata": {},
   "outputs": [
    {
     "name": "stdout",
     "output_type": "stream",
     "text": [
      "Inverse matrix:\n",
      "[[-0.05   0.225  0.05 ]\n",
      " [ 0.15  -0.3    0.1  ]\n",
      " [ 0.25  -0.25   0.   ]]\n"
     ]
    }
   ],
   "source": [
    "inverse = np.linalg.inv(array)\n",
    "print(f\"Inverse matrix:\\n{inverse}\")"
   ]
  },
  {
   "cell_type": "markdown",
   "id": "fe09efae",
   "metadata": {},
   "source": [
    "<b>Exercise 2<b/>"
   ]
  },
  {
   "cell_type": "code",
   "execution_count": 25,
   "id": "36a4e0ae",
   "metadata": {},
   "outputs": [
    {
     "data": {
      "text/plain": [
       "array([94,  7, 22, 83, 49, 70, 44, 10,  8, 57, 68, 12, 42, 24, 33, 70, 61,\n",
       "       69, 43, 51,  6, 15, 12, 99, 38, 34, 97,  4, 40, 36, 46, 83, 56, 21,\n",
       "       28,  6, 69, 75, 74, 74, 97, 14, 57, 36, 94, 82, 83, 57, 74,  5])"
      ]
     },
     "execution_count": 25,
     "metadata": {},
     "output_type": "execute_result"
    }
   ],
   "source": [
    "array = np.array(np.random.randint(1, 100, 50))\n",
    "array"
   ]
  },
  {
   "cell_type": "code",
   "execution_count": 31,
   "id": "d2d2b012",
   "metadata": {},
   "outputs": [
    {
     "name": "stdout",
     "output_type": "stream",
     "text": [
      "Mean: 48.58\n",
      "Median: 47.5\n",
      "Standard Deviation: 29.03521310409138\n"
     ]
    }
   ],
   "source": [
    "print(f\"Mean: {np.mean(array)}\")\n",
    "print(f\"Median: {np.median(array)}\")\n",
    "print(f\"Standard Deviation: {np.std(array)}\")"
   ]
  },
  {
   "cell_type": "markdown",
   "id": "e3780222",
   "metadata": {},
   "source": [
    "<b>Exercise 3</b>"
   ]
  },
  {
   "cell_type": "code",
   "execution_count": 4,
   "id": "53876b1a",
   "metadata": {},
   "outputs": [
    {
     "name": "stdout",
     "output_type": "stream",
     "text": [
      "January 2023 Dates:\n",
      " ['2023-01-01' '2023-01-02' '2023-01-03' '2023-01-04' '2023-01-05'\n",
      " '2023-01-06' '2023-01-07' '2023-01-08' '2023-01-09' '2023-01-10'\n",
      " '2023-01-11' '2023-01-12' '2023-01-13' '2023-01-14' '2023-01-15'\n",
      " '2023-01-16' '2023-01-17' '2023-01-18' '2023-01-19' '2023-01-20'\n",
      " '2023-01-21' '2023-01-22' '2023-01-23' '2023-01-24' '2023-01-25'\n",
      " '2023-01-26' '2023-01-27' '2023-01-28' '2023-01-29' '2023-01-30'\n",
      " '2023-01-31']\n"
     ]
    }
   ],
   "source": [
    "dates = np.arange('2023-01', '2023-02', dtype='datetime64[D]')\n",
    "print(\"January 2023 Dates:\\n\", dates)"
   ]
  },
  {
   "cell_type": "code",
   "execution_count": null,
   "id": "d3532fd8",
   "metadata": {},
   "outputs": [],
   "source": [
    "FALTA"
   ]
  },
  {
   "cell_type": "code",
   "execution_count": 2,
   "id": "966f1d9b",
   "metadata": {},
   "outputs": [
    {
     "ename": "IndexError",
     "evalue": "too many indices for array: array is 1-dimensional, but 2 were indexed",
     "output_type": "error",
     "traceback": [
      "\u001b[1;31m---------------------------------------------------------------------------\u001b[0m",
      "\u001b[1;31mIndexError\u001b[0m                                Traceback (most recent call last)",
      "Input \u001b[1;32mIn [2]\u001b[0m, in \u001b[0;36m<cell line: 7>\u001b[1;34m()\u001b[0m\n\u001b[0;32m      4\u001b[0m dates \u001b[38;5;241m=\u001b[39m np\u001b[38;5;241m.\u001b[39marange(start_date, end_date, dtype\u001b[38;5;241m=\u001b[39m\u001b[38;5;124m'\u001b[39m\u001b[38;5;124mdatetime64[D]\u001b[39m\u001b[38;5;124m'\u001b[39m)\n\u001b[0;32m      5\u001b[0m format_str \u001b[38;5;241m=\u001b[39m \u001b[38;5;124m'\u001b[39m\u001b[38;5;124m%\u001b[39m\u001b[38;5;124mY/\u001b[39m\u001b[38;5;124m%\u001b[39m\u001b[38;5;124mm/\u001b[39m\u001b[38;5;132;01m%d\u001b[39;00m\u001b[38;5;124m'\u001b[39m\n\u001b[1;32m----> 7\u001b[0m formatted_dates \u001b[38;5;241m=\u001b[39m \u001b[43mdates\u001b[49m\u001b[38;5;241;43m.\u001b[39;49m\u001b[43mastype\u001b[49m\u001b[43m(\u001b[49m\u001b[38;5;28;43mstr\u001b[39;49m\u001b[43m)\u001b[49m\u001b[43m[\u001b[49m\u001b[43m:\u001b[49m\u001b[43m,\u001b[49m\u001b[43m \u001b[49m\u001b[43m:\u001b[49m\u001b[38;5;241;43m10\u001b[39;49m\u001b[43m]\u001b[49m  \u001b[38;5;66;03m# Select only date part\u001b[39;00m\n\u001b[0;32m      9\u001b[0m \u001b[38;5;66;03m# Print the original and formatted dates\u001b[39;00m\n\u001b[0;32m     10\u001b[0m \u001b[38;5;28mprint\u001b[39m(\u001b[38;5;124m\"\u001b[39m\u001b[38;5;124mOriginal Dates:\u001b[39m\u001b[38;5;124m\"\u001b[39m)\n",
      "\u001b[1;31mIndexError\u001b[0m: too many indices for array: array is 1-dimensional, but 2 were indexed"
     ]
    }
   ],
   "source": [
    "start_date = np.datetime64('2023-01-01')\n",
    "end_date = np.datetime64('2023-02-01')\n",
    "\n",
    "dates = np.arange(start_date, end_date, dtype='datetime64[D]')\n",
    "format_str = '%Y/%m/%d'\n",
    "\n",
    "formatted_dates = dates.astype(str)[:, :10]  # Select only date part\n",
    "\n",
    "# Print the original and formatted dates\n",
    "print(\"Original Dates:\")\n",
    "print(dates)\n",
    "\n",
    "print(\"\\nFormatted Dates:\")\n",
    "print(formatted_dates)"
   ]
  },
  {
   "cell_type": "markdown",
   "id": "cc3cf426",
   "metadata": {},
   "source": [
    "<b>Exercise 4</b>"
   ]
  },
  {
   "cell_type": "code",
   "execution_count": 52,
   "id": "74b2b216",
   "metadata": {},
   "outputs": [
    {
     "data": {
      "text/plain": [
       "array([[ 7,  5,  9, 21, 37],\n",
       "       [22, 35, 49,  4, 32],\n",
       "       [37, 10, 23,  5, 19],\n",
       "       [36, 27,  6, 49, 22],\n",
       "       [29, 36, 46, 15, 20]])"
      ]
     },
     "execution_count": 52,
     "metadata": {},
     "output_type": "execute_result"
    }
   ],
   "source": [
    "array = np.array(np.random.randint(0, 50, 25)).reshape(5,5)\n",
    "array"
   ]
  },
  {
   "cell_type": "code",
   "execution_count": 55,
   "id": "f1f1e0f9",
   "metadata": {},
   "outputs": [
    {
     "data": {
      "text/plain": [
       "133"
      ]
     },
     "execution_count": 55,
     "metadata": {},
     "output_type": "execute_result"
    }
   ],
   "source": [
    "array[:, 2].sum()"
   ]
  },
  {
   "cell_type": "code",
   "execution_count": 56,
   "id": "932b170a",
   "metadata": {},
   "outputs": [
    {
     "data": {
      "text/plain": [
       "18.8"
      ]
     },
     "execution_count": 56,
     "metadata": {},
     "output_type": "execute_result"
    }
   ],
   "source": [
    "array[2, :].mean()"
   ]
  },
  {
   "cell_type": "markdown",
   "id": "fc66c792",
   "metadata": {},
   "source": [
    "<b>Exercise 5</b>"
   ]
  },
  {
   "cell_type": "markdown",
   "id": "12cda5cb",
   "metadata": {},
   "source": [
    "Images are represented as multi-dimensional arrays (ndarrays).\n",
    "\n",
    "An image consists of pixels arranged in rows and columns.\n",
    "Each pixel has a specific intensity value representing its color or brightness.\n",
    "NumPy arrays perfectly capture this grid-like structure.\n",
    "\n",
    "A grayscale image typically uses a 2D array.\n",
    "Each element in the array corresponds to the intensity (often 0 for black, 255 for white, and values in between for shades of gray) of a single pixel.\n",
    "The first dimension represents the rows (height) of the image.\n",
    "The second dimension represents the columns (width) of the image.\n",
    "Color Images:\n",
    "\n",
    "Color images require more information than grayscale.\n",
    "They typically use a 3D array.\n",
    "The first two dimensions (same as grayscale) represent rows and columns.\n",
    "The third dimension represents color channels (usually Red, Green, and Blue - RGB).\n",
    "Each element in this third dimension is a value between 0 and 255 representing the intensity of that specific color channel for the pixel."
   ]
  },
  {
   "cell_type": "code",
   "execution_count": 57,
   "id": "3d5e72d8",
   "metadata": {},
   "outputs": [
    {
     "name": "stdout",
     "output_type": "stream",
     "text": [
      "[[  4 208 103 209  88]\n",
      " [158 208 170 157  42]\n",
      " [133  66  15 228  34]\n",
      " [255 134  16 115 146]\n",
      " [ 66 215 124 192 136]]\n"
     ]
    }
   ],
   "source": [
    "grayscale_image = np.random.randint(0, 256, size=(5, 5), dtype=np.uint8)  \n",
    "\n",
    "print(grayscale_image)"
   ]
  },
  {
   "cell_type": "markdown",
   "id": "2cab8d84",
   "metadata": {},
   "source": [
    "<b>Exercise 6</b>"
   ]
  },
  {
   "cell_type": "code",
   "execution_count": 58,
   "id": "edb754f9",
   "metadata": {},
   "outputs": [],
   "source": [
    "# Productivity scores of employees before the training program\n",
    "productivity_before = np.random.normal(loc=50, scale=10, size=30)\n",
    "\n",
    "# Productivity scores of the same employees after the training program\n",
    "productivity_after = productivity_before + np.random.normal(loc=5, scale=3, size=30)\n",
    "\n",
    "# Your task is to formulate a hypothesis regarding the training program's effectiveness \n",
    "# and test it using basic statistical functions in NumPy."
   ]
  },
  {
   "cell_type": "code",
   "execution_count": null,
   "id": "7fc4e4a3",
   "metadata": {},
   "outputs": [],
   "source": []
  },
  {
   "cell_type": "markdown",
   "id": "97678057",
   "metadata": {},
   "source": [
    "<b>Exercise 7</b>"
   ]
  },
  {
   "cell_type": "code",
   "execution_count": 4,
   "id": "71ffd131",
   "metadata": {},
   "outputs": [
    {
     "name": "stdout",
     "output_type": "stream",
     "text": [
      "[10 47 31 13 14 24 34 37 28 34]\n",
      "[46 38 45 20 17 14  7 34 42 21]\n",
      "[False  True False False False  True  True  True False  True]\n"
     ]
    }
   ],
   "source": [
    "array1 = np.array(np.random.randint(0, 50, 10))\n",
    "array2 = np.array(np.random.randint(0, 50, 10))\n",
    "\n",
    "greater_elements = array1 > array2\n",
    "\n",
    "print(array1)\n",
    "print(array2)\n",
    "print(greater_elements)"
   ]
  },
  {
   "cell_type": "markdown",
   "id": "9f7ffdc5",
   "metadata": {},
   "source": [
    "<b>Exercise 8</b>"
   ]
  },
  {
   "cell_type": "code",
   "execution_count": 16,
   "id": "8d9b1501",
   "metadata": {},
   "outputs": [
    {
     "data": {
      "text/plain": [
       "array(['2023-10-01', '2023-10-02', '2023-10-03', '2023-10-04',\n",
       "       '2023-10-05', '2023-10-06', '2023-10-07', '2023-10-08',\n",
       "       '2023-10-09', '2023-10-10', '2023-10-11', '2023-10-12',\n",
       "       '2023-10-13', '2023-10-14', '2023-10-15', '2023-10-16',\n",
       "       '2023-10-17', '2023-10-18', '2023-10-19', '2023-10-20',\n",
       "       '2023-10-21', '2023-10-22', '2023-10-23', '2023-10-24',\n",
       "       '2023-10-25', '2023-10-26', '2023-10-27', '2023-10-28',\n",
       "       '2023-10-29', '2023-10-30', '2023-10-31', '2023-11-01',\n",
       "       '2023-11-02', '2023-11-03', '2023-11-04', '2023-11-05',\n",
       "       '2023-11-06', '2023-11-07', '2023-11-08', '2023-11-09',\n",
       "       '2023-11-10', '2023-11-11', '2023-11-12', '2023-11-13',\n",
       "       '2023-11-14', '2023-11-15', '2023-11-16', '2023-11-17',\n",
       "       '2023-11-18', '2023-11-19', '2023-11-20', '2023-11-21',\n",
       "       '2023-11-22', '2023-11-23', '2023-11-24', '2023-11-25',\n",
       "       '2023-11-26', '2023-11-27', '2023-11-28', '2023-11-29',\n",
       "       '2023-11-30', '2023-12-01', '2023-12-02', '2023-12-03',\n",
       "       '2023-12-04', '2023-12-05', '2023-12-06', '2023-12-07',\n",
       "       '2023-12-08', '2023-12-09', '2023-12-10', '2023-12-11',\n",
       "       '2023-12-12', '2023-12-13', '2023-12-14', '2023-12-15',\n",
       "       '2023-12-16', '2023-12-17', '2023-12-18', '2023-12-19',\n",
       "       '2023-12-20', '2023-12-21', '2023-12-22', '2023-12-23',\n",
       "       '2023-12-24', '2023-12-25', '2023-12-26', '2023-12-27',\n",
       "       '2023-12-28', '2023-12-29', '2023-12-30', '2023-12-31'],\n",
       "      dtype='datetime64[D]')"
      ]
     },
     "execution_count": 16,
     "metadata": {},
     "output_type": "execute_result"
    }
   ],
   "source": [
    "start_date = np.datetime64('2023-01-01')\n",
    "end_date = np.datetime64('2024-01-01')\n",
    "dates = np.arange(start_date, end_date, dtype='datetime64[D]')\n",
    "dates[:90]\n",
    "dates[90:181]\n",
    "dates[181:273]\n",
    "dates[273:365]"
   ]
  },
  {
   "cell_type": "markdown",
   "id": "6aadc9cc",
   "metadata": {},
   "source": [
    "<b>Exercise 9</b>"
   ]
  },
  {
   "cell_type": "code",
   "execution_count": 17,
   "id": "c629be82",
   "metadata": {},
   "outputs": [
    {
     "name": "stdout",
     "output_type": "stream",
     "text": [
      "[[1 2 3]\n",
      " [4 5 6]\n",
      " [7 8 9]]\n"
     ]
    }
   ],
   "source": [
    "df = pd.DataFrame([[1, 2, 3], [4, 5, 6], [7, 8, 9]], columns=['Columna1', 'Columna2', 'Columna3'])\n",
    "array_numpy = np.array(df.values)\n",
    "\n",
    "# Imprimir el array NumPy\n",
    "print(array_numpy)"
   ]
  },
  {
   "cell_type": "code",
   "execution_count": 18,
   "id": "4c4d989d",
   "metadata": {},
   "outputs": [
    {
     "data": {
      "text/plain": [
       "array([[1, 2, 3],\n",
       "       [4, 5, 6],\n",
       "       [7, 8, 9]])"
      ]
     },
     "execution_count": 18,
     "metadata": {},
     "output_type": "execute_result"
    }
   ],
   "source": [
    "array_numpy = np.array([[1, 2, 3], [4, 5, 6], [7, 8, 9]])\n",
    "array_numpy"
   ]
  },
  {
   "cell_type": "code",
   "execution_count": 19,
   "id": "5b7cfd21",
   "metadata": {},
   "outputs": [
    {
     "data": {
      "text/html": [
       "<div>\n",
       "<style scoped>\n",
       "    .dataframe tbody tr th:only-of-type {\n",
       "        vertical-align: middle;\n",
       "    }\n",
       "\n",
       "    .dataframe tbody tr th {\n",
       "        vertical-align: top;\n",
       "    }\n",
       "\n",
       "    .dataframe thead th {\n",
       "        text-align: right;\n",
       "    }\n",
       "</style>\n",
       "<table border=\"1\" class=\"dataframe\">\n",
       "  <thead>\n",
       "    <tr style=\"text-align: right;\">\n",
       "      <th></th>\n",
       "      <th>Columna1</th>\n",
       "      <th>Columna2</th>\n",
       "      <th>Columna3</th>\n",
       "    </tr>\n",
       "  </thead>\n",
       "  <tbody>\n",
       "    <tr>\n",
       "      <th>0</th>\n",
       "      <td>1</td>\n",
       "      <td>2</td>\n",
       "      <td>3</td>\n",
       "    </tr>\n",
       "    <tr>\n",
       "      <th>1</th>\n",
       "      <td>4</td>\n",
       "      <td>5</td>\n",
       "      <td>6</td>\n",
       "    </tr>\n",
       "    <tr>\n",
       "      <th>2</th>\n",
       "      <td>7</td>\n",
       "      <td>8</td>\n",
       "      <td>9</td>\n",
       "    </tr>\n",
       "  </tbody>\n",
       "</table>\n",
       "</div>"
      ],
      "text/plain": [
       "   Columna1  Columna2  Columna3\n",
       "0         1         2         3\n",
       "1         4         5         6\n",
       "2         7         8         9"
      ]
     },
     "execution_count": 19,
     "metadata": {},
     "output_type": "execute_result"
    }
   ],
   "source": [
    "columns=['Columna1', 'Columna2', 'Columna3']\n",
    "df = pd.DataFrame(array_numpy, columns=columns)\n",
    "df"
   ]
  },
  {
   "cell_type": "code",
   "execution_count": null,
   "id": "b3a708f3",
   "metadata": {},
   "outputs": [],
   "source": []
  }
 ],
 "metadata": {
  "kernelspec": {
   "display_name": "Python 3 (ipykernel)",
   "language": "python",
   "name": "python3"
  },
  "language_info": {
   "codemirror_mode": {
    "name": "ipython",
    "version": 3
   },
   "file_extension": ".py",
   "mimetype": "text/x-python",
   "name": "python",
   "nbconvert_exporter": "python",
   "pygments_lexer": "ipython3",
   "version": "3.9.12"
  }
 },
 "nbformat": 4,
 "nbformat_minor": 5
}
