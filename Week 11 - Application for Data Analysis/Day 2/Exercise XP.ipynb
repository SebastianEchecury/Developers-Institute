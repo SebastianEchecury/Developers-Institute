{
 "cells": [
  {
   "cell_type": "code",
   "execution_count": 2,
   "id": "126938c6",
   "metadata": {},
   "outputs": [],
   "source": [
    "import numpy as np"
   ]
  },
  {
   "cell_type": "markdown",
   "id": "358b759f",
   "metadata": {},
   "source": [
    "<b> Exercise 1</b>"
   ]
  },
  {
   "cell_type": "code",
   "execution_count": 5,
   "id": "d797db2d",
   "metadata": {},
   "outputs": [],
   "source": [
    "array = np.array(np.arange(0,10))"
   ]
  },
  {
   "cell_type": "code",
   "execution_count": 6,
   "id": "0127b71b",
   "metadata": {},
   "outputs": [
    {
     "data": {
      "text/plain": [
       "array([0, 1, 2, 3, 4, 5, 6, 7, 8, 9])"
      ]
     },
     "execution_count": 6,
     "metadata": {},
     "output_type": "execute_result"
    }
   ],
   "source": [
    "array"
   ]
  },
  {
   "cell_type": "markdown",
   "id": "db4896b4",
   "metadata": {},
   "source": [
    "<b> Exercise 2</b>"
   ]
  },
  {
   "cell_type": "code",
   "execution_count": 8,
   "id": "f9345fd8",
   "metadata": {},
   "outputs": [
    {
     "data": {
      "text/plain": [
       "array([3, 2, 0, 1, 2])"
      ]
     },
     "execution_count": 8,
     "metadata": {},
     "output_type": "execute_result"
    }
   ],
   "source": [
    "l = [3.14, 2.17, 0, 1, 2]\n",
    "array = np.array(l)\n",
    "array.astype(np.int32)"
   ]
  },
  {
   "cell_type": "markdown",
   "id": "38a92bda",
   "metadata": {},
   "source": [
    "<b> Exercise 3</b>"
   ]
  },
  {
   "cell_type": "code",
   "execution_count": 10,
   "id": "0a8355e0",
   "metadata": {},
   "outputs": [
    {
     "data": {
      "text/plain": [
       "array([[1, 2, 3],\n",
       "       [4, 5, 6],\n",
       "       [7, 8, 9]])"
      ]
     },
     "execution_count": 10,
     "metadata": {},
     "output_type": "execute_result"
    }
   ],
   "source": [
    "array = np.array(np.arange(1, 10)).reshape(3,3)\n",
    "array"
   ]
  },
  {
   "cell_type": "markdown",
   "id": "820ac3a2",
   "metadata": {},
   "source": [
    "<b> Exercise 4</b>"
   ]
  },
  {
   "cell_type": "code",
   "execution_count": 13,
   "id": "47bb064c",
   "metadata": {},
   "outputs": [
    {
     "data": {
      "text/plain": [
       "array([[0.59555629, 0.72024754, 0.82991331, 0.26138672, 0.13766819],\n",
       "       [0.71552692, 0.19906504, 0.01568942, 0.84124199, 0.94852822],\n",
       "       [0.8463332 , 0.62205581, 0.40753657, 0.85691985, 0.45294425],\n",
       "       [0.42101207, 0.46887646, 0.24003523, 0.66722069, 0.51244804]])"
      ]
     },
     "execution_count": 13,
     "metadata": {},
     "output_type": "execute_result"
    }
   ],
   "source": [
    "array = np.array(np.random.rand(20)).reshape(4, 5)\n",
    "array"
   ]
  },
  {
   "cell_type": "markdown",
   "id": "7dd0291c",
   "metadata": {},
   "source": [
    "<b> Exercise 5</b>"
   ]
  },
  {
   "cell_type": "code",
   "execution_count": 16,
   "id": "b96df4d1",
   "metadata": {},
   "outputs": [
    {
     "data": {
      "text/plain": [
       "array([[27,  8, 20, 24, 29],\n",
       "       [20, 19, 24, 17, 27]])"
      ]
     },
     "execution_count": 16,
     "metadata": {},
     "output_type": "execute_result"
    }
   ],
   "source": [
    "array = np.array(np.random.randint(0, 30, 10)).reshape(2, 5)\n",
    "array"
   ]
  },
  {
   "cell_type": "code",
   "execution_count": 17,
   "id": "79267f1a",
   "metadata": {},
   "outputs": [
    {
     "data": {
      "text/plain": [
       "array([20, 19, 24, 17, 27])"
      ]
     },
     "execution_count": 17,
     "metadata": {},
     "output_type": "execute_result"
    }
   ],
   "source": [
    "array[1, :]"
   ]
  },
  {
   "cell_type": "markdown",
   "id": "2671f93b",
   "metadata": {},
   "source": [
    "<b> Exercise 6</b>"
   ]
  },
  {
   "cell_type": "code",
   "execution_count": 18,
   "id": "5fbfe076",
   "metadata": {},
   "outputs": [
    {
     "data": {
      "text/plain": [
       "array([5, 9, 9, 4, 4, 3, 5, 9, 7, 9])"
      ]
     },
     "execution_count": 18,
     "metadata": {},
     "output_type": "execute_result"
    }
   ],
   "source": [
    "array = np.array(np.random.randint(0, 10, 10))\n",
    "array"
   ]
  },
  {
   "cell_type": "code",
   "execution_count": 19,
   "id": "7e24f464",
   "metadata": {},
   "outputs": [
    {
     "data": {
      "text/plain": [
       "array([9, 7, 9, 5, 3, 4, 4, 9, 9, 5])"
      ]
     },
     "execution_count": 19,
     "metadata": {},
     "output_type": "execute_result"
    }
   ],
   "source": [
    "np.flip(array, 0)"
   ]
  },
  {
   "cell_type": "markdown",
   "id": "7daae83b",
   "metadata": {},
   "source": [
    "<b>Exercise 7</b>"
   ]
  },
  {
   "cell_type": "code",
   "execution_count": 20,
   "id": "96152629",
   "metadata": {},
   "outputs": [
    {
     "data": {
      "text/plain": [
       "array([[1., 0., 0., 0.],\n",
       "       [0., 1., 0., 0.],\n",
       "       [0., 0., 1., 0.],\n",
       "       [0., 0., 0., 1.]])"
      ]
     },
     "execution_count": 20,
     "metadata": {},
     "output_type": "execute_result"
    }
   ],
   "source": [
    "np.identity(4)"
   ]
  },
  {
   "cell_type": "markdown",
   "id": "57b7ca0e",
   "metadata": {},
   "source": [
    "<b>Exercise 8</b>"
   ]
  },
  {
   "cell_type": "code",
   "execution_count": 24,
   "id": "3c864099",
   "metadata": {},
   "outputs": [
    {
     "name": "stdout",
     "output_type": "stream",
     "text": [
      "4.5\n",
      "45\n"
     ]
    }
   ],
   "source": [
    "array = np.array(np.arange(10))\n",
    "print(array.mean())\n",
    "print(array.sum())"
   ]
  },
  {
   "cell_type": "markdown",
   "id": "aaedc842",
   "metadata": {},
   "source": [
    "<b> Exercise 9</b>"
   ]
  },
  {
   "cell_type": "code",
   "execution_count": 26,
   "id": "ba765219",
   "metadata": {},
   "outputs": [
    {
     "data": {
      "text/plain": [
       "array([[ 1,  2,  3,  4,  5],\n",
       "       [ 6,  7,  8,  9, 10],\n",
       "       [11, 12, 13, 14, 15],\n",
       "       [16, 17, 18, 19, 20]])"
      ]
     },
     "execution_count": 26,
     "metadata": {},
     "output_type": "execute_result"
    }
   ],
   "source": [
    "array = np.arange(1, 21).reshape(4, 5)\n",
    "array"
   ]
  },
  {
   "cell_type": "markdown",
   "id": "c6cbc7e8",
   "metadata": {},
   "source": [
    "<b>Exercise 10</b>"
   ]
  },
  {
   "cell_type": "code",
   "execution_count": 30,
   "id": "87f8c37d",
   "metadata": {},
   "outputs": [],
   "source": [
    "array = np.array(np.arange(10))\n",
    "array2 = [n for n in array if n%2!=0]"
   ]
  },
  {
   "cell_type": "code",
   "execution_count": 31,
   "id": "ade7da26",
   "metadata": {},
   "outputs": [
    {
     "name": "stdout",
     "output_type": "stream",
     "text": [
      "[0 1 2 3 4 5 6 7 8 9]\n",
      "[1, 3, 5, 7, 9]\n"
     ]
    }
   ],
   "source": [
    "print(array)\n",
    "print(array2)"
   ]
  },
  {
   "cell_type": "code",
   "execution_count": null,
   "id": "929d7b7f",
   "metadata": {},
   "outputs": [],
   "source": []
  }
 ],
 "metadata": {
  "kernelspec": {
   "display_name": "Python 3 (ipykernel)",
   "language": "python",
   "name": "python3"
  },
  "language_info": {
   "codemirror_mode": {
    "name": "ipython",
    "version": 3
   },
   "file_extension": ".py",
   "mimetype": "text/x-python",
   "name": "python",
   "nbconvert_exporter": "python",
   "pygments_lexer": "ipython3",
   "version": "3.9.12"
  }
 },
 "nbformat": 4,
 "nbformat_minor": 5
}
