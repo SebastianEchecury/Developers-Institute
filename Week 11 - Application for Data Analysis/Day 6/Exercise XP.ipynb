{
 "cells": [
  {
   "cell_type": "markdown",
   "id": "b075b161",
   "metadata": {},
   "source": [
    "<b>Exercise 1</b>"
   ]
  },
  {
   "cell_type": "code",
   "execution_count": 40,
   "id": "1435a272",
   "metadata": {},
   "outputs": [],
   "source": [
    "import scipy.stats as stats\n",
    "import numpy as np\n",
    "import matplotlib.pyplot as plt\n",
    "import seaborn as sns\n",
    "import pandas as pd"
   ]
  },
  {
   "cell_type": "code",
   "execution_count": 6,
   "id": "be9691cb",
   "metadata": {},
   "outputs": [
    {
     "name": "stdout",
     "output_type": "stream",
     "text": [
      "1.7.3\n"
     ]
    }
   ],
   "source": [
    "print(sp.__version__)"
   ]
  },
  {
   "cell_type": "markdown",
   "id": "f0f4915c",
   "metadata": {},
   "source": [
    "<b>Exercise 2</b>"
   ]
  },
  {
   "cell_type": "code",
   "execution_count": 4,
   "id": "fb6243ee",
   "metadata": {},
   "outputs": [],
   "source": [
    "data = [12, 15, 13, 12, 18, 20, 22, 21]"
   ]
  },
  {
   "cell_type": "code",
   "execution_count": 9,
   "id": "28b53033",
   "metadata": {},
   "outputs": [
    {
     "name": "stdout",
     "output_type": "stream",
     "text": [
      "16.625\n",
      "16.5\n",
      "17.125\n",
      "4.138236339311712\n"
     ]
    }
   ],
   "source": [
    "mean_scipy = stats.tmean(data)\n",
    "median_scipy = np.median(data) \n",
    "variance_scipy = stats.tvar(data)\n",
    "std_dev_scipy = stats.tstd(data)\n",
    "\n",
    "print(mean_scipy)\n",
    "print(median_scipy)\n",
    "print(variance_scipy)\n",
    "print(std_dev_scipy)"
   ]
  },
  {
   "cell_type": "markdown",
   "id": "7efd6753",
   "metadata": {},
   "source": [
    "<b>Exercise 3</b>"
   ]
  },
  {
   "cell_type": "code",
   "execution_count": 11,
   "id": "0bed2687",
   "metadata": {},
   "outputs": [],
   "source": [
    "mean = 50\n",
    "std = 10\n",
    "normal_distibution = stats.norm(loc=mean, scale=std)"
   ]
  },
  {
   "cell_type": "code",
   "execution_count": 17,
   "id": "579d4278",
   "metadata": {},
   "outputs": [],
   "source": [
    "sample = normal_distibution.rvs(size=50)"
   ]
  },
  {
   "cell_type": "code",
   "execution_count": 18,
   "id": "e25e4203",
   "metadata": {},
   "outputs": [
    {
     "data": {
      "text/plain": [
       "array([42.68307037, 26.54945653, 60.12216266, 49.12146919, 43.36098998,\n",
       "       57.56086836, 58.49783259, 38.79247021, 40.26751774, 57.14373957,\n",
       "       59.04158373, 51.84348756, 42.56549711, 33.78188139, 36.65475686,\n",
       "       42.7807661 , 55.30024869, 31.76589312, 52.07408479, 59.62748471,\n",
       "       37.74953329, 46.18250568, 60.66264485, 45.60493463, 56.62106122,\n",
       "       45.50090556, 64.00439611, 40.86141011, 46.54417485, 52.38130889,\n",
       "       45.0885843 , 68.72729493, 52.78139044, 54.85799968, 66.83363295,\n",
       "       37.11024157, 49.81937751, 55.51235984, 80.40997811, 36.84445988,\n",
       "       51.59918949, 60.02970383, 52.34606106, 47.13050933, 64.01365495,\n",
       "       41.54068785, 46.71156714, 70.80988352, 36.30188372, 62.01942014])"
      ]
     },
     "execution_count": 18,
     "metadata": {},
     "output_type": "execute_result"
    }
   ],
   "source": [
    "sample"
   ]
  },
  {
   "cell_type": "code",
   "execution_count": 24,
   "id": "ac9a0645",
   "metadata": {},
   "outputs": [
    {
     "data": {
      "image/png": "[encoded data removed]",
      "text/plain": [
       "<Figure size 432x288 with 1 Axes>"
      ]
     },
     "metadata": {
      "needs_background": "light"
     },
     "output_type": "display_data"
    }
   ],
   "source": [
    "sns.histplot(data=sample, kde=True)\n",
    "plt.title(\"Histograma con curva de densidad de probabilidad\")\n",
    "plt.show()"
   ]
  },
  {
   "cell_type": "markdown",
   "id": "09be5066",
   "metadata": {},
   "source": [
    "<b>Exercise 4</b>"
   ]
  },
  {
   "cell_type": "code",
   "execution_count": 28,
   "id": "2c830182",
   "metadata": {},
   "outputs": [],
   "source": [
    "array = np.random.normal(10)"
   ]
  },
  {
   "cell_type": "code",
   "execution_count": 29,
   "id": "8c7e14d8",
   "metadata": {},
   "outputs": [
    {
     "data": {
      "text/plain": [
       "9.018958189219234"
      ]
     },
     "execution_count": 29,
     "metadata": {},
     "output_type": "execute_result"
    }
   ],
   "source": [
    "array"
   ]
  },
  {
   "cell_type": "code",
   "execution_count": 30,
   "id": "c822b2ca",
   "metadata": {},
   "outputs": [],
   "source": [
    "mean1 = 10\n",
    "std1 = 3\n",
    "normal_distibution1 = stats.norm(loc=mean1, scale=std1)\n",
    "sample1 = normal_distibution1.rvs(size=50)\n",
    "\n",
    "mean2 = 12\n",
    "std2 = 2.5\n",
    "normal_distibution2 = stats.norm(loc=mean2, scale=std2)\n",
    "sample2 = normal_distibution2.rvs(size=50)"
   ]
  },
  {
   "cell_type": "code",
   "execution_count": 37,
   "id": "fab2d777",
   "metadata": {},
   "outputs": [
    {
     "name": "stdout",
     "output_type": "stream",
     "text": [
      "10.66143517325251\n",
      "12.373908077832954\n"
     ]
    }
   ],
   "source": [
    "print(stats.tmean(sample1))\n",
    "print(stats.tmean(sample2))"
   ]
  },
  {
   "cell_type": "code",
   "execution_count": 35,
   "id": "12f9a9c8",
   "metadata": {},
   "outputs": [
    {
     "name": "stdout",
     "output_type": "stream",
     "text": [
      "T-statistic: -2.8267497952635408\n",
      "p-value: 0.005700526094301581\n"
     ]
    }
   ],
   "source": [
    "t_statistic, p_value = stats.ttest_ind(sample1, sample2)\n",
    "print(\"T-statistic:\", t_statistic)\n",
    "print(\"p-value:\", p_value)"
   ]
  },
  {
   "cell_type": "code",
   "execution_count": 36,
   "id": "2990ce11",
   "metadata": {},
   "outputs": [
    {
     "name": "stdout",
     "output_type": "stream",
     "text": [
      "Reject the null hypothesis. There is a statistically significant difference between the means of the two datasets.\n"
     ]
    }
   ],
   "source": [
    "if p_value < 0.05:\n",
    "  print(\"Reject the null hypothesis. There is a statistically significant difference between the means of the two datasets.\")\n",
    "else:\n",
    "  print(\"Fail to reject the null hypothesis. There is not enough evidence to conclude a statistically significant difference between the means.\")"
   ]
  },
  {
   "cell_type": "markdown",
   "id": "e70c0c34",
   "metadata": {},
   "source": [
    "<b>Exercise 5</b>"
   ]
  },
  {
   "cell_type": "code",
   "execution_count": 52,
   "id": "1e03123d",
   "metadata": {},
   "outputs": [],
   "source": [
    "data = pd.read_csv('iris.csv', header=None)\n",
    "data.columns = ['sepal length', 'sepal width', 'petal length', 'petal width', 'class']\n",
    "\n",
    "df = pd.DataFrame(data)"
   ]
  },
  {
   "cell_type": "code",
   "execution_count": 55,
   "id": "fa87821a",
   "metadata": {},
   "outputs": [
    {
     "name": "stdout",
     "output_type": "stream",
     "text": [
      "5.843333333333334\n",
      "5.8\n",
      "0.6856935123042507\n",
      "0.828066127977863\n"
     ]
    }
   ],
   "source": [
    "mean = stats.tmean(df['sepal length'])\n",
    "median = np.median(df['sepal length']) \n",
    "variance = stats.tvar(df['sepal length'])\n",
    "std = stats.tstd(df['sepal length'])\n",
    "\n",
    "print(mean)\n",
    "print(median)\n",
    "print(variance)\n",
    "print(std)"
   ]
  },
  {
   "cell_type": "markdown",
   "id": "e0b9ccef",
   "metadata": {},
   "source": [
    "<b>Exercise 6</b>"
   ]
  },
  {
   "cell_type": "code",
   "execution_count": 57,
   "id": "20a8a3f8",
   "metadata": {},
   "outputs": [],
   "source": [
    "data = np.random.normal(0, 1, 1000)"
   ]
  },
  {
   "cell_type": "code",
   "execution_count": 58,
   "id": "936feb31",
   "metadata": {},
   "outputs": [
    {
     "name": "stdout",
     "output_type": "stream",
     "text": [
      "0.12404068754493319\n",
      "0.12239843387233273\n"
     ]
    }
   ],
   "source": [
    "skewness = stats.skew(data)\n",
    "kurtosis = stats.kurtosis(data)\n",
    "\n",
    "print(skewness)\n",
    "print(kurtosis)"
   ]
  },
  {
   "cell_type": "code",
   "execution_count": null,
   "id": "f8c9fc42",
   "metadata": {},
   "outputs": [],
   "source": [
    "if skewness > 0:\n",
    "    print('tail on the right side')\n",
    "elif skewness < 0:\n",
    "    print('tail on the left side')\n",
    "else:\n",
    "    print('Simetrical distribution')\n",
    "\n",
    "if kurtosis > 0:\n",
    "    print('the variance is due to infrequent extreme deviations')\n",
    "elif kurtosis < 0:\n",
    "     print('the variance is due to infrequent extreme deviations')\n",
    "else:\n",
    "    print('Normal distribution')"
   ]
  }
 ],
 "metadata": {
  "kernelspec": {
   "display_name": "Python 3 (ipykernel)",
   "language": "python",
   "name": "python3"
  },
  "language_info": {
   "codemirror_mode": {
    "name": "ipython",
    "version": 3
   },
   "file_extension": ".py",
   "mimetype": "text/x-python",
   "name": "python",
   "nbconvert_exporter": "python",
   "pygments_lexer": "ipython3",
   "version": "3.9.12"
  }
 },
 "nbformat": 4,
 "nbformat_minor": 5
}
