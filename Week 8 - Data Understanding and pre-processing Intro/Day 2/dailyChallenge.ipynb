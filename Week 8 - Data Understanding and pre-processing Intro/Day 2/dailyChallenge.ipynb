{
 "cells": [
  {
   "cell_type": "code",
   "execution_count": 1,
   "id": "193642ff",
   "metadata": {},
   "outputs": [],
   "source": [
    "import pandas as pd"
   ]
  },
  {
   "cell_type": "code",
   "execution_count": 2,
   "id": "e9101ade",
   "metadata": {},
   "outputs": [
    {
     "name": "stdout",
     "output_type": "stream",
     "text": [
      "   Unnamed: 0       job_title   job_type experience_level       location  \\\n",
      "0           0  Data scientist  Full Time           Senior  New York City   \n",
      "1           2  Data scientist  Full Time           Senior         Boston   \n",
      "2           3  Data scientist  Full Time           Senior         London   \n",
      "3           4  Data scientist  Full Time           Senior         Boston   \n",
      "4           5  Data scientist  Full Time           Senior  New York City   \n",
      "\n",
      "  salary_currency  salary  \n",
      "0             USD  149000  \n",
      "1             USD  120000  \n",
      "2             USD   68000  \n",
      "3             USD  120000  \n",
      "4             USD  149000  \n"
     ]
    }
   ],
   "source": [
    "salaries_csv = pd.read_csv('datascience_salaries.csv')\n",
    "df = pd.DataFrame(salaries_csv)\n",
    "print(df.head())"
   ]
  },
  {
   "cell_type": "code",
   "execution_count": 4,
   "id": "8e868be1",
   "metadata": {},
   "outputs": [],
   "source": [
    "from sklearn.preprocessing import MinMaxScaler\n",
    "\n",
    "scaler = MinMaxScaler()\n",
    "df['Salary_normalized'] = scaler.fit_transform(df[['salary']])"
   ]
  },
  {
   "cell_type": "code",
   "execution_count": 5,
   "id": "a5e0e7a4",
   "metadata": {},
   "outputs": [
    {
     "name": "stdout",
     "output_type": "stream",
     "text": [
      "   Unnamed: 0       job_title   job_type experience_level       location  \\\n",
      "0           0  Data scientist  Full Time           Senior  New York City   \n",
      "1           2  Data scientist  Full Time           Senior         Boston   \n",
      "2           3  Data scientist  Full Time           Senior         London   \n",
      "3           4  Data scientist  Full Time           Senior         Boston   \n",
      "4           5  Data scientist  Full Time           Senior  New York City   \n",
      "\n",
      "  salary_currency  salary  Salary_normalized  \n",
      "0             USD  149000           0.601010  \n",
      "1             USD  120000           0.454545  \n",
      "2             USD   68000           0.191919  \n",
      "3             USD  120000           0.454545  \n",
      "4             USD  149000           0.601010  \n"
     ]
    }
   ],
   "source": [
    "print(df.head())"
   ]
  },
  {
   "cell_type": "code",
   "execution_count": 12,
   "id": "dbac393a",
   "metadata": {},
   "outputs": [
    {
     "data": {
      "text/plain": [
       "'\\n#This line creates an instance of the PCA class with the parameter n_components set to 2. It specifies that we want to reduce the dimensionality of the data to 2 principal components. In other words, the data will be projected into a 2D space.\\n\\nreduced_data = pca.fit_transform(df)\\nprint(reduced_data)\\n'"
      ]
     },
     "execution_count": 12,
     "metadata": {},
     "output_type": "execute_result"
    }
   ],
   "source": [
    "from sklearn.decomposition import PCA\n",
    "\n",
    "numerical_columns = df.select_dtypes(include=[\"int64\", \"float64\"])\n",
    "#print(numerical_columns)\n",
    "pca = PCA(n_components=2)\n",
    "data_transformed = pca.fit_transform(numerical_columns)\n",
    "\n",
    "#print(data_transformed)\n",
    "\n",
    "df[\"PC1\"] = data_transformed[:, 0]\n",
    "df[\"PC2\"] = data_transformed[:, 1]\n"
   ]
  },
  {
   "cell_type": "code",
   "execution_count": 13,
   "id": "3c893446",
   "metadata": {},
   "outputs": [
    {
     "data": {
      "text/html": [
       "<div>\n",
       "<style scoped>\n",
       "    .dataframe tbody tr th:only-of-type {\n",
       "        vertical-align: middle;\n",
       "    }\n",
       "\n",
       "    .dataframe tbody tr th {\n",
       "        vertical-align: top;\n",
       "    }\n",
       "\n",
       "    .dataframe thead th {\n",
       "        text-align: right;\n",
       "    }\n",
       "</style>\n",
       "<table border=\"1\" class=\"dataframe\">\n",
       "  <thead>\n",
       "    <tr style=\"text-align: right;\">\n",
       "      <th></th>\n",
       "      <th>Unnamed: 0</th>\n",
       "      <th>job_title</th>\n",
       "      <th>job_type</th>\n",
       "      <th>experience_level</th>\n",
       "      <th>location</th>\n",
       "      <th>salary_currency</th>\n",
       "      <th>salary</th>\n",
       "      <th>Salary_normalized</th>\n",
       "      <th>PC1</th>\n",
       "      <th>PC2</th>\n",
       "    </tr>\n",
       "  </thead>\n",
       "  <tbody>\n",
       "    <tr>\n",
       "      <th>0</th>\n",
       "      <td>0</td>\n",
       "      <td>Data scientist</td>\n",
       "      <td>Full Time</td>\n",
       "      <td>Senior</td>\n",
       "      <td>New York City</td>\n",
       "      <td>USD</td>\n",
       "      <td>149000</td>\n",
       "      <td>0.601010</td>\n",
       "      <td>84163.766081</td>\n",
       "      <td>-949.193183</td>\n",
       "    </tr>\n",
       "    <tr>\n",
       "      <th>1</th>\n",
       "      <td>2</td>\n",
       "      <td>Data scientist</td>\n",
       "      <td>Full Time</td>\n",
       "      <td>Senior</td>\n",
       "      <td>Boston</td>\n",
       "      <td>USD</td>\n",
       "      <td>120000</td>\n",
       "      <td>0.454545</td>\n",
       "      <td>55163.767131</td>\n",
       "      <td>-941.138351</td>\n",
       "    </tr>\n",
       "    <tr>\n",
       "      <th>2</th>\n",
       "      <td>3</td>\n",
       "      <td>Data scientist</td>\n",
       "      <td>Full Time</td>\n",
       "      <td>Senior</td>\n",
       "      <td>London</td>\n",
       "      <td>USD</td>\n",
       "      <td>68000</td>\n",
       "      <td>0.191919</td>\n",
       "      <td>3163.768472</td>\n",
       "      <td>-929.281412</td>\n",
       "    </tr>\n",
       "    <tr>\n",
       "      <th>3</th>\n",
       "      <td>4</td>\n",
       "      <td>Data scientist</td>\n",
       "      <td>Full Time</td>\n",
       "      <td>Senior</td>\n",
       "      <td>Boston</td>\n",
       "      <td>USD</td>\n",
       "      <td>120000</td>\n",
       "      <td>0.454545</td>\n",
       "      <td>55163.767548</td>\n",
       "      <td>-939.138352</td>\n",
       "    </tr>\n",
       "    <tr>\n",
       "      <th>4</th>\n",
       "      <td>5</td>\n",
       "      <td>Data scientist</td>\n",
       "      <td>Full Time</td>\n",
       "      <td>Senior</td>\n",
       "      <td>New York City</td>\n",
       "      <td>USD</td>\n",
       "      <td>149000</td>\n",
       "      <td>0.601010</td>\n",
       "      <td>84163.767125</td>\n",
       "      <td>-944.193183</td>\n",
       "    </tr>\n",
       "  </tbody>\n",
       "</table>\n",
       "</div>"
      ],
      "text/plain": [
       "   Unnamed: 0       job_title   job_type experience_level       location  \\\n",
       "0           0  Data scientist  Full Time           Senior  New York City   \n",
       "1           2  Data scientist  Full Time           Senior         Boston   \n",
       "2           3  Data scientist  Full Time           Senior         London   \n",
       "3           4  Data scientist  Full Time           Senior         Boston   \n",
       "4           5  Data scientist  Full Time           Senior  New York City   \n",
       "\n",
       "  salary_currency  salary  Salary_normalized           PC1         PC2  \n",
       "0             USD  149000           0.601010  84163.766081 -949.193183  \n",
       "1             USD  120000           0.454545  55163.767131 -941.138351  \n",
       "2             USD   68000           0.191919   3163.768472 -929.281412  \n",
       "3             USD  120000           0.454545  55163.767548 -939.138352  \n",
       "4             USD  149000           0.601010  84163.767125 -944.193183  "
      ]
     },
     "execution_count": 13,
     "metadata": {},
     "output_type": "execute_result"
    }
   ],
   "source": [
    "df.head()"
   ]
  },
  {
   "cell_type": "code",
   "execution_count": 17,
   "id": "bb6f8564",
   "metadata": {},
   "outputs": [
    {
     "name": "stdout",
     "output_type": "stream",
     "text": [
      "Average salaries by experience level:\n",
      "job_title\n",
      "Big data            57514.851485\n",
      "Data analyst        60812.500000\n",
      "Data scientist      67065.989848\n",
      "ML Ops              81263.157895\n",
      "Machine learning    68397.923875\n",
      "Name: salary, dtype: float64\n",
      "\n",
      "Median salaries by experience level:\n",
      "job_title\n",
      "Big data            56000.0\n",
      "Data analyst        63000.0\n",
      "Data scientist      68000.0\n",
      "ML Ops              62000.0\n",
      "Machine learning    51000.0\n",
      "Name: salary, dtype: float64\n"
     ]
    }
   ],
   "source": [
    "grouped_data = df.groupby('job_title')\n",
    "\n",
    "average_salaries = grouped_data['salary'].mean()\n",
    "median_salaries = grouped_data['salary'].median()\n",
    "\n",
    "print(\"Average salaries by experience level:\")\n",
    "print(average_salaries)\n",
    "\n",
    "print(\"\\nMedian salaries by experience level:\")\n",
    "print(median_salaries)"
   ]
  },
  {
   "cell_type": "code",
   "execution_count": null,
   "id": "ca40e785",
   "metadata": {},
   "outputs": [],
   "source": []
  }
 ],
 "metadata": {
  "kernelspec": {
   "display_name": "Python 3 (ipykernel)",
   "language": "python",
   "name": "python3"
  },
  "language_info": {
   "codemirror_mode": {
    "name": "ipython",
    "version": 3
   },
   "file_extension": ".py",
   "mimetype": "text/x-python",
   "name": "python",
   "nbconvert_exporter": "python",
   "pygments_lexer": "ipython3",
   "version": "3.9.12"
  }
 },
 "nbformat": 4,
 "nbformat_minor": 5
}
