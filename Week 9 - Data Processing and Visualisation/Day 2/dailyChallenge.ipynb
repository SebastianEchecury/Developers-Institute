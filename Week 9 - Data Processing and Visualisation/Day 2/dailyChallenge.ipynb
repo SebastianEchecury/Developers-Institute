{
 "cells": [
  {
   "cell_type": "code",
   "execution_count": 38,
   "id": "0ab8bb15",
   "metadata": {},
   "outputs": [],
   "source": [
    "import pandas as pd\n",
    "import seaborn as sns\n",
    "import matplotlib.pyplot as plt"
   ]
  },
  {
   "cell_type": "code",
   "execution_count": 83,
   "id": "f77dcbd1",
   "metadata": {},
   "outputs": [],
   "source": [
    "data = pd.read_csv('imdb_top_1000.csv')\n",
    "df = pd.DataFrame(data)\n",
    "df = df[0:10]"
   ]
  },
  {
   "cell_type": "code",
   "execution_count": 73,
   "id": "cdffa9a8",
   "metadata": {},
   "outputs": [
    {
     "name": "stdout",
     "output_type": "stream",
     "text": [
      "<class 'pandas.core.frame.DataFrame'>\n",
      "RangeIndex: 100 entries, 0 to 99\n",
      "Data columns (total 16 columns):\n",
      " #   Column         Non-Null Count  Dtype  \n",
      "---  ------         --------------  -----  \n",
      " 0   Poster_Link    100 non-null    object \n",
      " 1   Series_Title   100 non-null    object \n",
      " 2   Released_Year  100 non-null    object \n",
      " 3   Certificate    96 non-null     object \n",
      " 4   Runtime        100 non-null    object \n",
      " 5   Genre          100 non-null    object \n",
      " 6   IMDB_Rating    100 non-null    float64\n",
      " 7   Overview       100 non-null    object \n",
      " 8   Meta_score     84 non-null     float64\n",
      " 9   Director       100 non-null    object \n",
      " 10  Star1          100 non-null    object \n",
      " 11  Star2          100 non-null    object \n",
      " 12  Star3          100 non-null    object \n",
      " 13  Star4          100 non-null    object \n",
      " 14  No_of_Votes    100 non-null    int64  \n",
      " 15  Gross          85 non-null     object \n",
      "dtypes: float64(2), int64(1), object(13)\n",
      "memory usage: 12.6+ KB\n"
     ]
    }
   ],
   "source": [
    "df.info()"
   ]
  },
  {
   "cell_type": "code",
   "execution_count": 74,
   "id": "7a86a9f6",
   "metadata": {},
   "outputs": [
    {
     "data": {
      "text/html": [
       "<div>\n",
       "<style scoped>\n",
       "    .dataframe tbody tr th:only-of-type {\n",
       "        vertical-align: middle;\n",
       "    }\n",
       "\n",
       "    .dataframe tbody tr th {\n",
       "        vertical-align: top;\n",
       "    }\n",
       "\n",
       "    .dataframe thead th {\n",
       "        text-align: right;\n",
       "    }\n",
       "</style>\n",
       "<table border=\"1\" class=\"dataframe\">\n",
       "  <thead>\n",
       "    <tr style=\"text-align: right;\">\n",
       "      <th></th>\n",
       "      <th>Poster_Link</th>\n",
       "      <th>Series_Title</th>\n",
       "      <th>Released_Year</th>\n",
       "      <th>Certificate</th>\n",
       "      <th>Runtime</th>\n",
       "      <th>Genre</th>\n",
       "      <th>IMDB_Rating</th>\n",
       "      <th>Overview</th>\n",
       "      <th>Meta_score</th>\n",
       "      <th>Director</th>\n",
       "      <th>Star1</th>\n",
       "      <th>Star2</th>\n",
       "      <th>Star3</th>\n",
       "      <th>Star4</th>\n",
       "      <th>No_of_Votes</th>\n",
       "      <th>Gross</th>\n",
       "    </tr>\n",
       "  </thead>\n",
       "  <tbody>\n",
       "    <tr>\n",
       "      <th>0</th>\n",
       "      <td>https://m.media-amazon.com/images/M/MV5BMDFkYT...</td>\n",
       "      <td>The Shawshank Redemption</td>\n",
       "      <td>1994</td>\n",
       "      <td>A</td>\n",
       "      <td>142 min</td>\n",
       "      <td>Drama</td>\n",
       "      <td>9.3</td>\n",
       "      <td>Two imprisoned men bond over a number of years...</td>\n",
       "      <td>80.0</td>\n",
       "      <td>Frank Darabont</td>\n",
       "      <td>Tim Robbins</td>\n",
       "      <td>Morgan Freeman</td>\n",
       "      <td>Bob Gunton</td>\n",
       "      <td>William Sadler</td>\n",
       "      <td>2343110</td>\n",
       "      <td>28,341,469</td>\n",
       "    </tr>\n",
       "    <tr>\n",
       "      <th>1</th>\n",
       "      <td>https://m.media-amazon.com/images/M/MV5BM2MyNj...</td>\n",
       "      <td>The Godfather</td>\n",
       "      <td>1972</td>\n",
       "      <td>A</td>\n",
       "      <td>175 min</td>\n",
       "      <td>Crime, Drama</td>\n",
       "      <td>9.2</td>\n",
       "      <td>An organized crime dynasty's aging patriarch t...</td>\n",
       "      <td>100.0</td>\n",
       "      <td>Francis Ford Coppola</td>\n",
       "      <td>Marlon Brando</td>\n",
       "      <td>Al Pacino</td>\n",
       "      <td>James Caan</td>\n",
       "      <td>Diane Keaton</td>\n",
       "      <td>1620367</td>\n",
       "      <td>134,966,411</td>\n",
       "    </tr>\n",
       "    <tr>\n",
       "      <th>2</th>\n",
       "      <td>https://m.media-amazon.com/images/M/MV5BMTMxNT...</td>\n",
       "      <td>The Dark Knight</td>\n",
       "      <td>2008</td>\n",
       "      <td>UA</td>\n",
       "      <td>152 min</td>\n",
       "      <td>Action, Crime, Drama</td>\n",
       "      <td>9.0</td>\n",
       "      <td>When the menace known as the Joker wreaks havo...</td>\n",
       "      <td>84.0</td>\n",
       "      <td>Christopher Nolan</td>\n",
       "      <td>Christian Bale</td>\n",
       "      <td>Heath Ledger</td>\n",
       "      <td>Aaron Eckhart</td>\n",
       "      <td>Michael Caine</td>\n",
       "      <td>2303232</td>\n",
       "      <td>534,858,444</td>\n",
       "    </tr>\n",
       "    <tr>\n",
       "      <th>3</th>\n",
       "      <td>https://m.media-amazon.com/images/M/MV5BMWMwMG...</td>\n",
       "      <td>The Godfather: Part II</td>\n",
       "      <td>1974</td>\n",
       "      <td>A</td>\n",
       "      <td>202 min</td>\n",
       "      <td>Crime, Drama</td>\n",
       "      <td>9.0</td>\n",
       "      <td>The early life and career of Vito Corleone in ...</td>\n",
       "      <td>90.0</td>\n",
       "      <td>Francis Ford Coppola</td>\n",
       "      <td>Al Pacino</td>\n",
       "      <td>Robert De Niro</td>\n",
       "      <td>Robert Duvall</td>\n",
       "      <td>Diane Keaton</td>\n",
       "      <td>1129952</td>\n",
       "      <td>57,300,000</td>\n",
       "    </tr>\n",
       "    <tr>\n",
       "      <th>4</th>\n",
       "      <td>https://m.media-amazon.com/images/M/MV5BMWU4N2...</td>\n",
       "      <td>12 Angry Men</td>\n",
       "      <td>1957</td>\n",
       "      <td>U</td>\n",
       "      <td>96 min</td>\n",
       "      <td>Crime, Drama</td>\n",
       "      <td>9.0</td>\n",
       "      <td>A jury holdout attempts to prevent a miscarria...</td>\n",
       "      <td>96.0</td>\n",
       "      <td>Sidney Lumet</td>\n",
       "      <td>Henry Fonda</td>\n",
       "      <td>Lee J. Cobb</td>\n",
       "      <td>Martin Balsam</td>\n",
       "      <td>John Fiedler</td>\n",
       "      <td>689845</td>\n",
       "      <td>4,360,000</td>\n",
       "    </tr>\n",
       "  </tbody>\n",
       "</table>\n",
       "</div>"
      ],
      "text/plain": [
       "                                         Poster_Link  \\\n",
       "0  https://m.media-amazon.com/images/M/MV5BMDFkYT...   \n",
       "1  https://m.media-amazon.com/images/M/MV5BM2MyNj...   \n",
       "2  https://m.media-amazon.com/images/M/MV5BMTMxNT...   \n",
       "3  https://m.media-amazon.com/images/M/MV5BMWMwMG...   \n",
       "4  https://m.media-amazon.com/images/M/MV5BMWU4N2...   \n",
       "\n",
       "               Series_Title Released_Year Certificate  Runtime  \\\n",
       "0  The Shawshank Redemption          1994           A  142 min   \n",
       "1             The Godfather          1972           A  175 min   \n",
       "2           The Dark Knight          2008          UA  152 min   \n",
       "3    The Godfather: Part II          1974           A  202 min   \n",
       "4              12 Angry Men          1957           U   96 min   \n",
       "\n",
       "                  Genre  IMDB_Rating  \\\n",
       "0                 Drama          9.3   \n",
       "1          Crime, Drama          9.2   \n",
       "2  Action, Crime, Drama          9.0   \n",
       "3          Crime, Drama          9.0   \n",
       "4          Crime, Drama          9.0   \n",
       "\n",
       "                                            Overview  Meta_score  \\\n",
       "0  Two imprisoned men bond over a number of years...        80.0   \n",
       "1  An organized crime dynasty's aging patriarch t...       100.0   \n",
       "2  When the menace known as the Joker wreaks havo...        84.0   \n",
       "3  The early life and career of Vito Corleone in ...        90.0   \n",
       "4  A jury holdout attempts to prevent a miscarria...        96.0   \n",
       "\n",
       "               Director           Star1           Star2          Star3  \\\n",
       "0        Frank Darabont     Tim Robbins  Morgan Freeman     Bob Gunton   \n",
       "1  Francis Ford Coppola   Marlon Brando       Al Pacino     James Caan   \n",
       "2     Christopher Nolan  Christian Bale    Heath Ledger  Aaron Eckhart   \n",
       "3  Francis Ford Coppola       Al Pacino  Robert De Niro  Robert Duvall   \n",
       "4          Sidney Lumet     Henry Fonda     Lee J. Cobb  Martin Balsam   \n",
       "\n",
       "            Star4  No_of_Votes        Gross  \n",
       "0  William Sadler      2343110   28,341,469  \n",
       "1    Diane Keaton      1620367  134,966,411  \n",
       "2   Michael Caine      2303232  534,858,444  \n",
       "3    Diane Keaton      1129952   57,300,000  \n",
       "4    John Fiedler       689845    4,360,000  "
      ]
     },
     "execution_count": 74,
     "metadata": {},
     "output_type": "execute_result"
    }
   ],
   "source": [
    "df.head()     "
   ]
  },
  {
   "cell_type": "code",
   "execution_count": 6,
   "id": "96576107",
   "metadata": {},
   "outputs": [
    {
     "name": "stdout",
     "output_type": "stream",
     "text": [
      "['A' 'UA' 'U' 'PG-13' 'R' nan 'PG' 'G' 'Passed' 'TV-14' '16' 'TV-MA'\n",
      " 'Unrated' 'GP' 'Approved' 'TV-PG' 'U/A']\n",
      "[ 80. 100.  84.  90.  96.  94.  74.  66.  92.  82.  87.  73.  83.  nan\n",
      "  79.  91.  61.  59.  65.  85.  98.  89.  88.  57.  67.  62.  77.  64.\n",
      "  75.  97.  99.  78.  68.  81.  95.  76.  69.  55.  70.  58.  86.  71.\n",
      "  63.  93.  72.  60.  47.  49.  50.  33.  54.  56.  51.  53.  48.  44.\n",
      "  45.  40.  52.  28.  36.  46.  30.  41.]\n",
      "['28,341,469' '134,966,411' '534,858,444' '57,300,000' '4,360,000'\n",
      " '377,845,905' '107,928,762' '96,898,818' '292,576,195' '37,030,102'\n",
      " '315,544,750' '330,252,182' '6,100,000' '342,551,365' '171,479,930'\n",
      " '46,836,394' '290,475,067' '112,000,000' nan '53,367,844' '188,020,017'\n",
      " '7,563,397' '10,055,859' '216,540,909' '136,801,374' '57,598,247'\n",
      " '100,125,643' '130,742,922' '322,740,140' '269,061' '335,451,311'\n",
      " '13,092,000' '13,182,281' '53,089,891' '132,384,315' '32,572,577'\n",
      " '187,705,427' '6,719,864' '23,341,568' '19,501,238' '422,783,777'\n",
      " '204,843,350' '11,990,401' '210,609,762' '5,321,508' '32,000,000'\n",
      " '1,024,560' '163,245' '19,181' '1,661,096' '5,017,246' '12,391,761'\n",
      " '190,241,310' '858,373,000' '678,815,482' '209,726,015' '162,805,434'\n",
      " '448,139,099' '6,532,908' '1,223,869' '223,808,164' '11,286,112'\n",
      " '707,481' '25,544,867' '2,375,308' '248,159,971' '44,017,374'\n",
      " '83,471,511' '78,900,000' '275,902' '8,175,000' '36,764,313' '288,475'\n",
      " '159,227,644' '1,373,943' '687,185' '7,098,492' '6,857,096' '120,540,719'\n",
      " '34,400,301' '33,225,499' '30,328,156' '3,635,482' '130,096,601'\n",
      " '138,433,435' '933,933' '191,796,233' '75,600,000' '2,832,029'\n",
      " '46,357,676' '85,160,248' '51,973,029' '45,598,982' '309,125,409'\n",
      " '11,487,676' '28,262,574' '159,600,000' '6,207,725' '56,954,992'\n",
      " '15,000,000' '44,824,144' '18,600,000' '13,275,000' '3,200,000'\n",
      " '8,819,028' '55,240' '332,930' '5,720,000' '1,585,634' '28,877'\n",
      " '1,236,166' '5,450,000' '898,575' '4,186,168' '85,080,171' '54,513,740'\n",
      " '342,370' '20,186,659' '739,478' '1,429,534' '144,501' '1,626,289'\n",
      " '7,461' '39,567' '6,391,436' '13,657,115' '128,012,934' '293,004,164'\n",
      " '116,900,694' '1,113,541' '40,222,514' '37,634,615' '415,004,880'\n",
      " '70,511,035' '2,197,331' '733,094' '206,852,432' '1,223,240' '5,509,040'\n",
      " '4,711,096' '170,742,341' '3,897,569' '64,616,940' '67,436,818'\n",
      " '42,438,300' '101,157,447' '197,171,806' '280,015' '1,105,564'\n",
      " '83,008,852' '4,135,750' '23,383,987' '234,723' '1,229,197' '12,100,000'\n",
      " '25,000,000' '57,226' '12,562' '96,568' '10,177' '5,014,000' '977,375'\n",
      " '3,759,854' '1,241,223' '2,006,788' '3,492,754' '901,610' '226,277,068'\n",
      " '14,677,674' '3,107,072' '165,520' '10,616,104' '923,221' '59,100,318'\n",
      " '167,767,189' '67,209,615' '356,461,711' '2,804,874' '56,671,993'\n",
      " '26,947,624' '117,624,028' '45,055,776' '857,524' '1,035,953' '3,108,485'\n",
      " '61,002,302' '154,058,340' '148,095,302' '381,011,219' '1,498,210'\n",
      " '217,581,231' '18,354,356' '74,283,625' '2,217,561' '100,492,203'\n",
      " '23,530,892' '1,111,061' '5,820,649' '14,131' '300,000' '70,099,045'\n",
      " '380,843,261' '164,615,351' '5,383,834' '289,916,256' '70,147'\n",
      " '293,506,292' '259,127' '125,618,201' '348,660' '17,498,804' '2,734,044'\n",
      " '16,501,785' '24,611,975' '171,082' '309,811' '5,535,405' '4,043,686'\n",
      " '600,200' '402,453,882' '25,010,410' '5,216,888' '2,603,061' '95,860,116'\n",
      " '52,287,414' '138,530,565' '2,181,987' '495,770' '13,782,838'\n",
      " '22,244,207' '4,971,340' '32,868,943' '20,045,115' '48,979,328'\n",
      " '117,235,247' '177,345' '29,000,000' '30,933,743' '1,742,348' '39,481'\n",
      " '16,217,773' '102,021' '55,908' '4,050,000' '1,526,000' '74,700,000'\n",
      " '752,045' '44,908,000' '9,600,000' '3,969,893' '449,191' '10,900,000'\n",
      " '203,300' '198,676,459' '172,885' '21,877' '539,540' '1,033,895'\n",
      " '8,178,001' '151,101,803' '51,739,495' '228,433,663' '341,268,248'\n",
      " '6,738,000' '1,506,975' '132,422,809' '5,566,534' '1,079,369' '1,010,414'\n",
      " '2,625,803' '91,125,683' '333,176,600' '92,054,159' '25,568,251'\n",
      " '216,428,042' '183,637,894' '17,738,570' '100,119' '138,797,449'\n",
      " '169,708,112' '363,070,709' '106,662' '10,950' '4,018,695' '141,319,928'\n",
      " '106,954,678' '8,060' '623,279,547' '4,445,756' '27,298,285'\n",
      " '163,566,459' '57,366,262' '227,471,070' '238,507' '74,103,820'\n",
      " '5,990,075' '206,445,654' '167,445,960' '66,208,183' '502,028'\n",
      " '2,380,788' '2,086,345' '61,649,911' '1,787,378' '169,659' '305,413,918'\n",
      " '66,257,002' '261,441,092' '1,530,386' '1,480,006' '22,455,976'\n",
      " '4,184,036' '6,203,044' '776,665' '1,647,780' '5,595,428' '23,159,305'\n",
      " '3,296' '24,475,416' '13,417,292' '57,141,459' '515,905' '75,082,668'\n",
      " '70,906,973' '4,496,583' '63,895,607' '217,350,219' '70,405,498'\n",
      " '218,967,620' '184,208,848' '27,545,445' '178,800,000' '553,171'\n",
      " '30,857,814' '3,333,969' '4,542,825' '38,400,000' '52,767,889'\n",
      " '30,177,511' '39,200,000' '260,000,000' '50,000,000' '86,300,000'\n",
      " '53,267,000' '232,906,145' '4,081,254' '29,133,000' '80,500,000'\n",
      " '541,940' '102,308,889' '33,395,426' '104,945,305' '163,214,286'\n",
      " '111,722,000' '14,500,000' '50,690' '8,284,000' '19,516,000' '12,535,000'\n",
      " '11,900,000' '2,237,659' '17,570,324' '654,000' '8,000,000' '23,650,000'\n",
      " '2,108,060' '55,000' '2,076,020' '3,270,000' '50,970' '165,359,751'\n",
      " '3,313,513' '2,000,000' '18,095,701' '258,168' '32,015,231' '5,202,582'\n",
      " '5,875,006' '3,237,118' '315,058,289' '32,381,218' '349,555'\n",
      " '100,546,139' '936,662,225' '8,114,627' '233,921,534' '138,730'\n",
      " '44,671,682' '100,206,256' '6,739,492' '7,000,000' '2,084,637'\n",
      " '5,009,677' '2,122,065' '115,646,235' '26,236,603' '410,800' '25,379,975'\n",
      " '1,185,783' '257,730,019' '7,757,130' '13,756,082' '2,280,348'\n",
      " '124,987,023' '21,002,919' '3,635,164' '318,412,101' '13,542,874'\n",
      " '90,135,191' '249,358,727' '53,710,019' '9,284,265' '1,059,830'\n",
      " '1,000,045' '121,661,683' '1,221,261' '35,552,383' '32,534,850'\n",
      " '7,220,243' '245,852,179' '26,400,640' '2,201,126' '12,281,500'\n",
      " '1,324,974' '36,948,322' '56,362,352' '14,743,391' '18,254,702'\n",
      " '76,270,454' '40,084,041' '9,929,135' '188,751' '20,605,209' '57,229,890'\n",
      " '45,700,000' '37,823,676' '5,100,000' '70,600,000' '61,001' '198,809'\n",
      " '61,700,000' '12,064,472' '89,029' '22,276,975' '24,379,978' '13,474,588'\n",
      " '30,000,000' '88,300' '93,740,000' '9,450,000' '7,630,000' '2,650,000'\n",
      " '10,464,000' '6,540,000' '9,460,000' '296,000' '3,981,000' '2,537,520'\n",
      " '10,000,000' '2,402,067' '188,373,161' '169,607,287' '40,442,052'\n",
      " '48,023,088' '1,782,795' '47,695,120' '435,266' '532,177,324'\n",
      " '408,084,349' '54,117,416' '108,101,214' '6,735,118' '1,330,596'\n",
      " '2,852,400' '4,231,500' '169,209' '222,527,828' '15,322,921' '1,670,773'\n",
      " '5,209,580' '434,038,008' '85,433' '45,512,466' '177,002,924'\n",
      " '70,259,870' '128,392' '102,515,793' '107,100,855' '6,460' '161,197,785'\n",
      " '547,292' '258,366,855' '2,222,647' '10,095,170' '93,617,009'\n",
      " '145,000,989' '9,030,581' '9,439,923' '303,003,568' '741,283'\n",
      " '50,927,067' '35,061,555' '130,164,645' '760,507,625' '3,600'\n",
      " '50,866,635' '59,891,098' '23,637,265' '127,509,326' '2,921,738' '1,305'\n",
      " '38,405,088' '5,128,124' '128,985' '25,514,517' '119,519,402' '15,280'\n",
      " '81,001,787' '16,756,372' '181,655' '7,002,255' '54,234,062' '2,892,011'\n",
      " '115,654,751' '128,078,872' '8,264,530' '233,632,142' '25,812'\n",
      " '28,965,197' '32,481,825' '267,665,011' '659,325,379' '233,986'\n",
      " '12,339,633' '48,323,648' '4,040,691' '5,887,457' '9,170,214'\n",
      " '56,505,065' '32,416,586' '22,954,968' '1,769,305' '183,875,760'\n",
      " '17,266,971' '5,617,391' '2,015,810' '1,999,955' '57,504,069'\n",
      " '61,276,872' '52,096,475' '26,830,000' '118,500,000' '34,603,943'\n",
      " '59,735,548' '5,923,044' '70,136,369' '1,436,000' '61,503,218'\n",
      " '98,467,863' '45,875,171' '34,700,291' '238,632,124' '21,500,000'\n",
      " '2,500,000' '435,110,554' '106,260,000' '31,800,000' '4,420,000'\n",
      " '193,817' '16,056,255' '42,765,000' '4,000,000' '44,785,053' '17,550,741'\n",
      " '56,700,000' '72,000,000' '102,272,727' '39,100,000' '2,616,000'\n",
      " '336,705' '335,609' '324,591,735' '33,800,859' '176,040,665'\n",
      " '220,159,104' '3,358,518' '3,333,000' '765,127' '35,893,537'\n",
      " '128,261,724' '124,872,350' '6,743,776' '42,340,598' '2,199,675'\n",
      " '1,122,527' '175,058' '259,766,572' '985,912' '17,654,912' '189,422,889'\n",
      " '1,339,152' '71,177' '56,816,662' '257,760,692' '274,092,705'\n",
      " '228,778,661' '83,861' '96,962,694' '146,408,305' '277,322,503'\n",
      " '304,360,277' '132,092,958' '136,025,503' '32,391,374' '295,983,305'\n",
      " '15,090,400' '18,593,156' '881,302' '35,739,802' '1,752,214' '327,919'\n",
      " '25,442,958' '412,544' '17,605,861' '33,080,084' '22,494,487' '1,054,361'\n",
      " '871,577' '200,821,936' '4,398,392' '83,043,761' '53,606,916'\n",
      " '54,580,300' '17,108,591' '176,241,941' '1,082,715' '75,331,600'\n",
      " '44,585,453' '290,013,036' '77,911,774' '75,286,229' '111,110,575'\n",
      " '4,890,878' '4,064,200' '15,539,266' '40,311,852' '22,245,861'\n",
      " '108,638,745' '104,454,762' '141,072' '21,995,263' '3,029,081'\n",
      " '183,417,150' '151,086' '45,512,588' '52,037,603' '10,824,921'\n",
      " '2,807,390' '76,631,907' '17,105,219' '368,234' '22,858,926'\n",
      " '148,478,011' '63,540,020' '4,065,116' '41,909,762' '35,811,509'\n",
      " '56,116,183' '4,414,535' '10,019,307' '21,848,932' '3,151,130'\n",
      " '6,110,979' '77,324,422' '27,281,507' '48,169,908' '75,505,856'\n",
      " '10,725,228' '141,340,178' '82,418,501' '6,153,939' '5,080,409'\n",
      " '156,452,370' '1,544,889' '43,984,230' '22,238,696' '7,153,487'\n",
      " '8,551,228' '10,631,333' '10,600,000' '11,798,616' '54,000,000'\n",
      " '78,912,963' '47,212,904' '54,800,000' '83,400,000' '47,000,000'\n",
      " '1,924,733' '119,500,000' '29,800,000' '7,056,013' '15,630,710'\n",
      " '35,900,000' '44,527,234' '45,300,000' '26,331' '28,350,000' '51,081,062'\n",
      " '11,403,529' '83,957' '4,905,000' '52,709' '10,550,000' '536,118'\n",
      " '76,408,097' '26,020,957' '142,502,728' '566,356' '5,904,366'\n",
      " '24,801,212' '13,122,642' '845,464' '389,813,101' '107,825,862'\n",
      " '18,340,051' '72,313,754' '608,581,744' '248,757,044' '46,889,293'\n",
      " '109,767,581' '1,092,800' '26,862,450' '37,707,719' '208,545,589'\n",
      " '4,105,123' '41,003,371' '19,202,743' '215,288,866' '171,243,005'\n",
      " '1,008,098' '251,513,985' '35,014,192' '48,071,303' '75,605,492'\n",
      " '3,185,812' '75,590,286' '209,028,679' '255,959,475' '9,422,422'\n",
      " '69,951,824' '17,114,882' '38,634,938' '686,383' '88,513,495'\n",
      " '20,300,218' '10,301,706' '24,633,730' '39,868,642' '6,013' '301,959,197'\n",
      " '210,614,939' '23,089,926' '107,509,799' '24,149,632' '56,000,369'\n",
      " '3,081,925' '697,181' '548,707' '6,167,817' '5,739,376' '16,290,476'\n",
      " '45,289' '51,680,613' '13,060,843' '57,938,693' '45,064,915' '52,364,010'\n",
      " '13,622,333' '317,575,550' '96,522,687' '52,990,775' '51,401,758'\n",
      " '132,072,926' '50,668,906' '15,070,285' '7,267,585' '36,400,491'\n",
      " '120,620,254' '10,680,275' '14,378,331' '49,100,000' '3,796,699'\n",
      " '43,182,776' '100,012,499' '1,037,847' '71,516,617' '173,837,933'\n",
      " '1,464,625' '40,903,593' '7,993,039' '52,929,168' '453,243' '1,794,187'\n",
      " '285,761,243' '66,666,062' '92,823,600' '111,543,479' '78,756,177'\n",
      " '49,530,280' '65,207,127' '2,150,000' '119,285,432' '12,465,371'\n",
      " '22,490,039' '76,657,000' '43,000,000' '35,000,000' '132,088,635'\n",
      " '959,000' '696,690' '1,378,435' '141,843,612' '13,780,024' '30,500,000']\n"
     ]
    }
   ],
   "source": [
    "# Missing Values\n",
    "print(df['Certificate'].unique())\n",
    "print(df['Meta_score'].unique())\n",
    "print(df['Gross'].unique())"
   ]
  },
  {
   "cell_type": "code",
   "execution_count": 84,
   "id": "a906610b",
   "metadata": {},
   "outputs": [],
   "source": [
    "mode = df['Certificate'].mode().values[0]\n",
    "df['Certificate'].fillna(mode, inplace = True)\n",
    "\n",
    "mean = df['Meta_score'].mean()\n",
    "df['Meta_score'].fillna(mean, inplace = True)\n",
    "\n",
    "#mean = df['Gross'].mean()\n",
    "#df['Gross'].fillna(mean, inplace = True)"
   ]
  },
  {
   "cell_type": "code",
   "execution_count": 14,
   "id": "768aa636",
   "metadata": {},
   "outputs": [
    {
     "name": "stdout",
     "output_type": "stream",
     "text": [
      "Poster_Link        0\n",
      "Series_Title       0\n",
      "Released_Year      0\n",
      "Certificate        0\n",
      "Runtime            0\n",
      "Genre              0\n",
      "IMDB_Rating        0\n",
      "Overview           0\n",
      "Meta_score         0\n",
      "Director           0\n",
      "Star1              0\n",
      "Star2              0\n",
      "Star3              0\n",
      "Star4              0\n",
      "No_of_Votes        0\n",
      "Gross            169\n",
      "dtype: int64\n"
     ]
    }
   ],
   "source": [
    "print(df.isnull().sum())"
   ]
  },
  {
   "cell_type": "code",
   "execution_count": 85,
   "id": "2d35e7d8",
   "metadata": {},
   "outputs": [],
   "source": [
    "def convert_to_int(n_string):\n",
    "    if isinstance(n_string, str):\n",
    "        return int(n_string.replace(',', ''))\n",
    "\n",
    "df['Gross int'] = df['Gross'].map(convert_to_int)"
   ]
  },
  {
   "cell_type": "code",
   "execution_count": 86,
   "id": "d3dfb1e7",
   "metadata": {},
   "outputs": [],
   "source": [
    "mean = df['Gross int'].mean()\n",
    "df['Gross int'].fillna(mean, inplace = True)"
   ]
  },
  {
   "cell_type": "code",
   "execution_count": 33,
   "id": "837d15f7",
   "metadata": {},
   "outputs": [
    {
     "name": "stdout",
     "output_type": "stream",
     "text": [
      "Poster_Link        0\n",
      "Series_Title       0\n",
      "Released_Year      0\n",
      "Certificate        0\n",
      "Runtime            0\n",
      "Genre              0\n",
      "IMDB_Rating        0\n",
      "Overview           0\n",
      "Meta_score         0\n",
      "Director           0\n",
      "Star1              0\n",
      "Star2              0\n",
      "Star3              0\n",
      "Star4              0\n",
      "No_of_Votes        0\n",
      "Gross            169\n",
      "Gross int          0\n",
      "dtype: int64\n"
     ]
    }
   ],
   "source": [
    "print(df.isnull().sum())"
   ]
  },
  {
   "cell_type": "markdown",
   "id": "44592ff9",
   "metadata": {},
   "source": [
    "<b>Rating Trends Over Years"
   ]
  },
  {
   "cell_type": "code",
   "execution_count": 87,
   "id": "2831f05c",
   "metadata": {},
   "outputs": [
    {
     "data": {
      "image/png": "[encoded data removed]",
      "text/plain": [
       "<Figure size 432x288 with 1 Axes>"
      ]
     },
     "metadata": {
      "needs_background": "light"
     },
     "output_type": "display_data"
    },
    {
     "data": {
      "text/plain": [
       "<Figure size 7200x36000 with 0 Axes>"
      ]
     },
     "metadata": {},
     "output_type": "display_data"
    }
   ],
   "source": [
    "#df_agrupado = df.groupby('Released_Year')['IMDB_Rating'].mean()\n",
    "#print(df_agrupado)\n",
    "\n",
    "plt.bar(df['Released_Year'], df['IMDB_Rating'])\n",
    "plt.figure(figsize=(100, 500))\n",
    "plt.show()"
   ]
  },
  {
   "cell_type": "markdown",
   "id": "09f8291f",
   "metadata": {},
   "source": [
    "<b> Genre Popularity Analysis"
   ]
  },
  {
   "cell_type": "code",
   "execution_count": 43,
   "id": "54f98f64",
   "metadata": {},
   "outputs": [
    {
     "data": {
      "text/plain": [
       "array(['Drama', 'Crime, Drama', 'Action, Crime, Drama',\n",
       "       'Action, Adventure, Drama', 'Biography, Drama, History',\n",
       "       'Action, Adventure, Sci-Fi', 'Drama, Romance', 'Western',\n",
       "       'Action, Sci-Fi', 'Biography, Crime, Drama',\n",
       "       'Action, Adventure, Fantasy', 'Comedy, Drama, Thriller',\n",
       "       'Adventure, Drama, Sci-Fi', 'Animation, Adventure, Family',\n",
       "       'Drama, War', 'Crime, Drama, Fantasy', 'Comedy, Drama, Romance',\n",
       "       'Crime, Drama, Mystery', 'Crime, Drama, Thriller',\n",
       "       'Action, Drama, Mystery', 'Drama, Family, Fantasy', 'Drama, Music',\n",
       "       'Biography, Comedy, Drama', 'Drama, Mystery, Sci-Fi',\n",
       "       'Biography, Drama, Music', 'Crime, Mystery, Thriller',\n",
       "       'Animation, Adventure, Drama', 'Animation, Drama, War',\n",
       "       'Adventure, Comedy, Sci-Fi', 'Horror, Mystery, Thriller',\n",
       "       'Drama, Romance, War', 'Comedy, Drama, Family',\n",
       "       'Animation, Drama, Fantasy', 'Action, Biography, Drama',\n",
       "       'Animation, Action, Adventure', 'Drama, Western',\n",
       "       'Action, Adventure', 'Comedy, Drama', 'Drama, Family',\n",
       "       'Drama, Mystery, Thriller', 'Mystery, Thriller', 'Drama, Horror',\n",
       "       'Drama, Mystery, War', 'Horror, Sci-Fi', 'Drama, Musical',\n",
       "       'Comedy', 'Drama, Film-Noir', 'Comedy, Drama, War',\n",
       "       'Drama, Thriller, War', 'Drama, Fantasy, Horror',\n",
       "       'Crime, Drama, Music', 'Adventure, Drama, War',\n",
       "       'Drama, Romance, Sci-Fi', 'Comedy, Romance', 'Comedy, Crime',\n",
       "       'Drama, Family, Sport', 'Animation, Adventure, Comedy',\n",
       "       'Adventure, Drama, Thriller', 'Comedy, Crime, Drama',\n",
       "       'Crime, Drama, Sci-Fi', 'Adventure, Sci-Fi',\n",
       "       'Adventure, Biography, Drama', 'Adventure, Mystery, Thriller',\n",
       "       'Mystery, Romance, Thriller', 'Comedy, Musical, Romance',\n",
       "       'Crime, Drama, Film-Noir', 'Drama, Mystery', 'Drama, Sci-Fi',\n",
       "       'Action, Drama, War', 'Action, Drama', 'Adventure, Comedy, Drama',\n",
       "       'Biography, Drama, Sport', 'Action, Comedy, Crime',\n",
       "       'Action, Biography, Crime', 'Drama, Mystery, Romance',\n",
       "       'Action, Drama, Sport', 'Drama, Fantasy, War',\n",
       "       'Action, Drama, Sci-Fi', 'Biography, Drama',\n",
       "       'Action, Comedy, Romance', 'Animation, Family, Fantasy',\n",
       "       'Action, Thriller', 'Action, Adventure, Comedy',\n",
       "       'Adventure, Comedy, Fantasy', 'Adventure, Drama, History',\n",
       "       'Action, Drama, Thriller', 'Comedy, Music, Romance',\n",
       "       'Drama, Fantasy, History', 'Crime, Thriller',\n",
       "       'Adventure, Drama, Western', 'Comedy, War', 'Drama, Thriller',\n",
       "       'Animation, Drama, Family', 'Drama, Romance, Thriller',\n",
       "       'Comedy, Drama, Musical', 'Comedy, Drama, Fantasy',\n",
       "       'Adventure, Comedy, Crime', 'Adventure, Drama, Fantasy',\n",
       "       'Biography, Drama, Family', 'Animation, Comedy, Drama',\n",
       "       'Drama, Sport', 'Animation, Action, Drama',\n",
       "       'Adventure, Drama, Musical', 'Drama, Music, Romance',\n",
       "       'Comedy, Crime, Romance', 'Comedy, Crime, Sport',\n",
       "       'Drama, History, Romance', 'Adventure, Drama',\n",
       "       'Animation, Adventure, Fantasy', 'Horror, Mystery, Sci-Fi',\n",
       "       'Drama, Fantasy, Music', 'Action, Sci-Fi, Thriller',\n",
       "       'Drama, Fantasy', 'Drama, Horror, Thriller', 'Drama, History',\n",
       "       'Film-Noir, Mystery, Thriller', 'Fantasy, Horror, Mystery',\n",
       "       'Action, Crime, Thriller', 'Comedy, Drama, Music',\n",
       "       'Biography, Drama, Thriller', 'Animation, Biography, Drama',\n",
       "       'Action, Mystery, Thriller', 'Crime, Drama, Romance',\n",
       "       'Action, Adventure, Thriller', 'Crime, Drama, Musical',\n",
       "       'Animation, Crime, Mystery', 'Action, Crime, Comedy',\n",
       "       'Mystery, Sci-Fi, Thriller', 'Animation, Action, Crime',\n",
       "       'Comedy, Fantasy, Romance', 'Drama, History, Thriller',\n",
       "       'Animation, Action, Sci-Fi', 'Adventure, Family, Fantasy',\n",
       "       'Drama, Fantasy, Romance', 'Drama, History, War',\n",
       "       'Adventure, Thriller', 'Horror', 'Drama, Family, Musical',\n",
       "       'Action, Drama, Western', 'Crime, Drama, Horror',\n",
       "       'Drama, Film-Noir, Mystery', 'Comedy, Crime, Thriller',\n",
       "       'Film-Noir, Mystery', 'Comedy, Crime, Mystery',\n",
       "       'Drama, Fantasy, Mystery', 'Comedy, Horror',\n",
       "       'Action, Adventure, History', 'Drama, Music, Mystery',\n",
       "       'Comedy, Music', 'Comedy, Family', 'Drama, Music, Musical',\n",
       "       'Action, Adventure, Horror', 'Action, Adventure, Biography',\n",
       "       'Biography, Drama, War', 'Action, Adventure, Western',\n",
       "       'Horror, Thriller', 'Comedy, Mystery, Romance',\n",
       "       'Drama, Thriller, Western', 'Crime, Film-Noir, Thriller',\n",
       "       'Drama, Film-Noir, Romance', 'Crime, Film-Noir, Mystery',\n",
       "       'Action, Adventure, Romance', 'Comedy, Music, Musical',\n",
       "       'Adventure, Horror, Sci-Fi', 'Fantasy, Horror',\n",
       "       'Action, Drama, History', 'Adventure, Comedy, Family',\n",
       "       'Animation, Biography, Crime', 'Adventure, Biography, Crime',\n",
       "       'Adventure, Fantasy', 'Drama, History, Mystery',\n",
       "       'Action, Comedy, Mystery', 'Adventure, Drama, Romance',\n",
       "       'Drama, Sci-Fi, Thriller', 'Crime, Drama, History',\n",
       "       'Action, Comedy, Fantasy', 'Family, Sci-Fi',\n",
       "       'Adventure, History, War', 'Animation, Sci-Fi',\n",
       "       'Family, Fantasy, Musical', 'Thriller', 'Comedy, Family, Fantasy',\n",
       "       'Adventure, Comedy, Film-Noir', 'Film-Noir, Thriller',\n",
       "       'Comedy, Family, Romance', 'Drama, Horror, Sci-Fi',\n",
       "       'Comedy, Musical, War', 'Biography, Drama, Romance',\n",
       "       'Drama, History, Music', 'Animation, Action, Fantasy',\n",
       "       'Animation, Comedy, Fantasy', 'Comedy, Western',\n",
       "       'Action, Adventure, War', 'Drama, Horror, Mystery',\n",
       "       'Animation, Comedy, Crime', 'Action, Adventure, Crime',\n",
       "       'Action, Adventure, Mystery', 'Action, Adventure, Family',\n",
       "       'Action, Crime, Mystery', 'Animation, Drama, Romance',\n",
       "       'Drama, War, Western', 'Adventure, Comedy, War'], dtype=object)"
      ]
     },
     "execution_count": 43,
     "metadata": {},
     "output_type": "execute_result"
    }
   ],
   "source": [
    "# Generate a Seaborn bar plot to compare the number of movies across different genres.\n",
    "df['Genre'].unique()"
   ]
  },
  {
   "cell_type": "code",
   "execution_count": 59,
   "id": "17d5c92a",
   "metadata": {},
   "outputs": [
    {
     "ename": "TypeError",
     "evalue": "Horizontal orientation requires numeric `x` variable.",
     "output_type": "error",
     "traceback": [
      "\u001b[1;31m---------------------------------------------------------------------------\u001b[0m",
      "\u001b[1;31mTypeError\u001b[0m                                 Traceback (most recent call last)",
      "Input \u001b[1;32mIn [59]\u001b[0m, in \u001b[0;36m<cell line: 1>\u001b[1;34m()\u001b[0m\n\u001b[1;32m----> 1\u001b[0m \u001b[43msns\u001b[49m\u001b[38;5;241;43m.\u001b[39;49m\u001b[43mbarplot\u001b[49m\u001b[43m(\u001b[49m\u001b[43mx\u001b[49m\u001b[38;5;241;43m=\u001b[39;49m\u001b[38;5;124;43m'\u001b[39;49m\u001b[38;5;124;43mGenre\u001b[39;49m\u001b[38;5;124;43m'\u001b[39;49m\u001b[43m,\u001b[49m\u001b[43m \u001b[49m\u001b[43mdata\u001b[49m\u001b[38;5;241;43m=\u001b[39;49m\u001b[43mdf\u001b[49m\u001b[43m)\u001b[49m\n\u001b[0;32m      2\u001b[0m \u001b[38;5;66;03m#sns.countplot(x='Genre', data=df)\u001b[39;00m\n\u001b[0;32m      3\u001b[0m \u001b[38;5;66;03m#plt.title('Anxiety Rate by Gender')\u001b[39;00m\n\u001b[0;32m      4\u001b[0m plt\u001b[38;5;241m.\u001b[39mshow()\n",
      "File \u001b[1;32m~\\anaconda3\\lib\\site-packages\\seaborn\\_decorators.py:46\u001b[0m, in \u001b[0;36m_deprecate_positional_args.<locals>.inner_f\u001b[1;34m(*args, **kwargs)\u001b[0m\n\u001b[0;32m     36\u001b[0m     warnings\u001b[38;5;241m.\u001b[39mwarn(\n\u001b[0;32m     37\u001b[0m         \u001b[38;5;124m\"\u001b[39m\u001b[38;5;124mPass the following variable\u001b[39m\u001b[38;5;132;01m{}\u001b[39;00m\u001b[38;5;124m as \u001b[39m\u001b[38;5;132;01m{}\u001b[39;00m\u001b[38;5;124mkeyword arg\u001b[39m\u001b[38;5;132;01m{}\u001b[39;00m\u001b[38;5;124m: \u001b[39m\u001b[38;5;132;01m{}\u001b[39;00m\u001b[38;5;124m. \u001b[39m\u001b[38;5;124m\"\u001b[39m\n\u001b[0;32m     38\u001b[0m         \u001b[38;5;124m\"\u001b[39m\u001b[38;5;124mFrom version 0.12, the only valid positional argument \u001b[39m\u001b[38;5;124m\"\u001b[39m\n\u001b[1;32m   (...)\u001b[0m\n\u001b[0;32m     43\u001b[0m         \u001b[38;5;167;01mFutureWarning\u001b[39;00m\n\u001b[0;32m     44\u001b[0m     )\n\u001b[0;32m     45\u001b[0m kwargs\u001b[38;5;241m.\u001b[39mupdate({k: arg \u001b[38;5;28;01mfor\u001b[39;00m k, arg \u001b[38;5;129;01min\u001b[39;00m \u001b[38;5;28mzip\u001b[39m(sig\u001b[38;5;241m.\u001b[39mparameters, args)})\n\u001b[1;32m---> 46\u001b[0m \u001b[38;5;28;01mreturn\u001b[39;00m f(\u001b[38;5;241m*\u001b[39m\u001b[38;5;241m*\u001b[39mkwargs)\n",
      "File \u001b[1;32m~\\anaconda3\\lib\\site-packages\\seaborn\\categorical.py:3182\u001b[0m, in \u001b[0;36mbarplot\u001b[1;34m(x, y, hue, data, order, hue_order, estimator, ci, n_boot, units, seed, orient, color, palette, saturation, errcolor, errwidth, capsize, dodge, ax, **kwargs)\u001b[0m\n\u001b[0;32m   3169\u001b[0m \u001b[38;5;129m@_deprecate_positional_args\u001b[39m\n\u001b[0;32m   3170\u001b[0m \u001b[38;5;28;01mdef\u001b[39;00m \u001b[38;5;21mbarplot\u001b[39m(\n\u001b[0;32m   3171\u001b[0m     \u001b[38;5;241m*\u001b[39m,\n\u001b[1;32m   (...)\u001b[0m\n\u001b[0;32m   3179\u001b[0m     \u001b[38;5;241m*\u001b[39m\u001b[38;5;241m*\u001b[39mkwargs,\n\u001b[0;32m   3180\u001b[0m ):\n\u001b[1;32m-> 3182\u001b[0m     plotter \u001b[38;5;241m=\u001b[39m \u001b[43m_BarPlotter\u001b[49m\u001b[43m(\u001b[49m\u001b[43mx\u001b[49m\u001b[43m,\u001b[49m\u001b[43m \u001b[49m\u001b[43my\u001b[49m\u001b[43m,\u001b[49m\u001b[43m \u001b[49m\u001b[43mhue\u001b[49m\u001b[43m,\u001b[49m\u001b[43m \u001b[49m\u001b[43mdata\u001b[49m\u001b[43m,\u001b[49m\u001b[43m \u001b[49m\u001b[43morder\u001b[49m\u001b[43m,\u001b[49m\u001b[43m \u001b[49m\u001b[43mhue_order\u001b[49m\u001b[43m,\u001b[49m\n\u001b[0;32m   3183\u001b[0m \u001b[43m                          \u001b[49m\u001b[43mestimator\u001b[49m\u001b[43m,\u001b[49m\u001b[43m \u001b[49m\u001b[43mci\u001b[49m\u001b[43m,\u001b[49m\u001b[43m \u001b[49m\u001b[43mn_boot\u001b[49m\u001b[43m,\u001b[49m\u001b[43m \u001b[49m\u001b[43munits\u001b[49m\u001b[43m,\u001b[49m\u001b[43m \u001b[49m\u001b[43mseed\u001b[49m\u001b[43m,\u001b[49m\n\u001b[0;32m   3184\u001b[0m \u001b[43m                          \u001b[49m\u001b[43morient\u001b[49m\u001b[43m,\u001b[49m\u001b[43m \u001b[49m\u001b[43mcolor\u001b[49m\u001b[43m,\u001b[49m\u001b[43m \u001b[49m\u001b[43mpalette\u001b[49m\u001b[43m,\u001b[49m\u001b[43m \u001b[49m\u001b[43msaturation\u001b[49m\u001b[43m,\u001b[49m\n\u001b[0;32m   3185\u001b[0m \u001b[43m                          \u001b[49m\u001b[43merrcolor\u001b[49m\u001b[43m,\u001b[49m\u001b[43m \u001b[49m\u001b[43merrwidth\u001b[49m\u001b[43m,\u001b[49m\u001b[43m \u001b[49m\u001b[43mcapsize\u001b[49m\u001b[43m,\u001b[49m\u001b[43m \u001b[49m\u001b[43mdodge\u001b[49m\u001b[43m)\u001b[49m\n\u001b[0;32m   3187\u001b[0m     \u001b[38;5;28;01mif\u001b[39;00m ax \u001b[38;5;129;01mis\u001b[39;00m \u001b[38;5;28;01mNone\u001b[39;00m:\n\u001b[0;32m   3188\u001b[0m         ax \u001b[38;5;241m=\u001b[39m plt\u001b[38;5;241m.\u001b[39mgca()\n",
      "File \u001b[1;32m~\\anaconda3\\lib\\site-packages\\seaborn\\categorical.py:1584\u001b[0m, in \u001b[0;36m_BarPlotter.__init__\u001b[1;34m(self, x, y, hue, data, order, hue_order, estimator, ci, n_boot, units, seed, orient, color, palette, saturation, errcolor, errwidth, capsize, dodge)\u001b[0m\n\u001b[0;32m   1579\u001b[0m \u001b[38;5;28;01mdef\u001b[39;00m \u001b[38;5;21m__init__\u001b[39m(\u001b[38;5;28mself\u001b[39m, x, y, hue, data, order, hue_order,\n\u001b[0;32m   1580\u001b[0m              estimator, ci, n_boot, units, seed,\n\u001b[0;32m   1581\u001b[0m              orient, color, palette, saturation, errcolor,\n\u001b[0;32m   1582\u001b[0m              errwidth, capsize, dodge):\n\u001b[0;32m   1583\u001b[0m \u001b[38;5;250m    \u001b[39m\u001b[38;5;124;03m\"\"\"Initialize the plotter.\"\"\"\u001b[39;00m\n\u001b[1;32m-> 1584\u001b[0m     \u001b[38;5;28;43mself\u001b[39;49m\u001b[38;5;241;43m.\u001b[39;49m\u001b[43mestablish_variables\u001b[49m\u001b[43m(\u001b[49m\u001b[43mx\u001b[49m\u001b[43m,\u001b[49m\u001b[43m \u001b[49m\u001b[43my\u001b[49m\u001b[43m,\u001b[49m\u001b[43m \u001b[49m\u001b[43mhue\u001b[49m\u001b[43m,\u001b[49m\u001b[43m \u001b[49m\u001b[43mdata\u001b[49m\u001b[43m,\u001b[49m\u001b[43m \u001b[49m\u001b[43morient\u001b[49m\u001b[43m,\u001b[49m\n\u001b[0;32m   1585\u001b[0m \u001b[43m                             \u001b[49m\u001b[43morder\u001b[49m\u001b[43m,\u001b[49m\u001b[43m \u001b[49m\u001b[43mhue_order\u001b[49m\u001b[43m,\u001b[49m\u001b[43m \u001b[49m\u001b[43munits\u001b[49m\u001b[43m)\u001b[49m\n\u001b[0;32m   1586\u001b[0m     \u001b[38;5;28mself\u001b[39m\u001b[38;5;241m.\u001b[39mestablish_colors(color, palette, saturation)\n\u001b[0;32m   1587\u001b[0m     \u001b[38;5;28mself\u001b[39m\u001b[38;5;241m.\u001b[39mestimate_statistic(estimator, ci, n_boot, seed)\n",
      "File \u001b[1;32m~\\anaconda3\\lib\\site-packages\\seaborn\\categorical.py:156\u001b[0m, in \u001b[0;36m_CategoricalPlotter.establish_variables\u001b[1;34m(self, x, y, hue, data, orient, order, hue_order, units)\u001b[0m\n\u001b[0;32m    153\u001b[0m         \u001b[38;5;28;01mraise\u001b[39;00m \u001b[38;5;167;01mValueError\u001b[39;00m(err)\n\u001b[0;32m    155\u001b[0m \u001b[38;5;66;03m# Figure out the plotting orientation\u001b[39;00m\n\u001b[1;32m--> 156\u001b[0m orient \u001b[38;5;241m=\u001b[39m \u001b[43minfer_orient\u001b[49m\u001b[43m(\u001b[49m\n\u001b[0;32m    157\u001b[0m \u001b[43m    \u001b[49m\u001b[43mx\u001b[49m\u001b[43m,\u001b[49m\u001b[43m \u001b[49m\u001b[43my\u001b[49m\u001b[43m,\u001b[49m\u001b[43m \u001b[49m\u001b[43morient\u001b[49m\u001b[43m,\u001b[49m\u001b[43m \u001b[49m\u001b[43mrequire_numeric\u001b[49m\u001b[38;5;241;43m=\u001b[39;49m\u001b[38;5;28;43mself\u001b[39;49m\u001b[38;5;241;43m.\u001b[39;49m\u001b[43mrequire_numeric\u001b[49m\n\u001b[0;32m    158\u001b[0m \u001b[43m\u001b[49m\u001b[43m)\u001b[49m\n\u001b[0;32m    160\u001b[0m \u001b[38;5;66;03m# Option 2a:\u001b[39;00m\n\u001b[0;32m    161\u001b[0m \u001b[38;5;66;03m# We are plotting a single set of data\u001b[39;00m\n\u001b[0;32m    162\u001b[0m \u001b[38;5;66;03m# ------------------------------------\u001b[39;00m\n\u001b[0;32m    163\u001b[0m \u001b[38;5;28;01mif\u001b[39;00m x \u001b[38;5;129;01mis\u001b[39;00m \u001b[38;5;28;01mNone\u001b[39;00m \u001b[38;5;129;01mor\u001b[39;00m y \u001b[38;5;129;01mis\u001b[39;00m \u001b[38;5;28;01mNone\u001b[39;00m:\n\u001b[0;32m    164\u001b[0m \n\u001b[0;32m    165\u001b[0m     \u001b[38;5;66;03m# Determine where the data are\u001b[39;00m\n",
      "File \u001b[1;32m~\\anaconda3\\lib\\site-packages\\seaborn\\_core.py:1328\u001b[0m, in \u001b[0;36minfer_orient\u001b[1;34m(x, y, orient, require_numeric)\u001b[0m\n\u001b[0;32m   1326\u001b[0m         warnings\u001b[38;5;241m.\u001b[39mwarn(single_var_warning\u001b[38;5;241m.\u001b[39mformat(\u001b[38;5;124m\"\u001b[39m\u001b[38;5;124mVertical\u001b[39m\u001b[38;5;124m\"\u001b[39m, \u001b[38;5;124m\"\u001b[39m\u001b[38;5;124mx\u001b[39m\u001b[38;5;124m\"\u001b[39m))\n\u001b[0;32m   1327\u001b[0m     \u001b[38;5;28;01mif\u001b[39;00m require_numeric \u001b[38;5;129;01mand\u001b[39;00m x_type \u001b[38;5;241m!=\u001b[39m \u001b[38;5;124m\"\u001b[39m\u001b[38;5;124mnumeric\u001b[39m\u001b[38;5;124m\"\u001b[39m:\n\u001b[1;32m-> 1328\u001b[0m         \u001b[38;5;28;01mraise\u001b[39;00m \u001b[38;5;167;01mTypeError\u001b[39;00m(nonnumeric_dv_error\u001b[38;5;241m.\u001b[39mformat(\u001b[38;5;124m\"\u001b[39m\u001b[38;5;124mHorizontal\u001b[39m\u001b[38;5;124m\"\u001b[39m, \u001b[38;5;124m\"\u001b[39m\u001b[38;5;124mx\u001b[39m\u001b[38;5;124m\"\u001b[39m))\n\u001b[0;32m   1329\u001b[0m     \u001b[38;5;28;01mreturn\u001b[39;00m \u001b[38;5;124m\"\u001b[39m\u001b[38;5;124mh\u001b[39m\u001b[38;5;124m\"\u001b[39m\n\u001b[0;32m   1331\u001b[0m \u001b[38;5;28;01melif\u001b[39;00m \u001b[38;5;28mstr\u001b[39m(orient)\u001b[38;5;241m.\u001b[39mstartswith(\u001b[38;5;124m\"\u001b[39m\u001b[38;5;124mv\u001b[39m\u001b[38;5;124m\"\u001b[39m):\n",
      "\u001b[1;31mTypeError\u001b[0m: Horizontal orientation requires numeric `x` variable."
     ]
    }
   ],
   "source": [
    "sns.barplot(x='Genre', data=df)\n",
    "#sns.countplot(x='Genre', data=df)\n",
    "#plt.title('Anxiety Rate by Gender')\n",
    "plt.show()"
   ]
  },
  {
   "cell_type": "markdown",
   "id": "f361e5c5",
   "metadata": {},
   "source": [
    "<b>Director’s Impact on Ratings:"
   ]
  },
  {
   "cell_type": "code",
   "execution_count": 88,
   "id": "4ea9ea8d",
   "metadata": {},
   "outputs": [
    {
     "data": {
      "image/png": "[encoded data removed]",
      "text/plain": [
       "<Figure size 432x288 with 1 Axes>"
      ]
     },
     "metadata": {
      "needs_background": "light"
     },
     "output_type": "display_data"
    }
   ],
   "source": [
    "plt.scatter(df['Director'], df['IMDB_Rating'])\n",
    "plt.show()"
   ]
  },
  {
   "cell_type": "markdown",
   "id": "0353e2cc",
   "metadata": {},
   "source": [
    "<b>Star Power Analysis"
   ]
  },
  {
   "cell_type": "code",
   "execution_count": 89,
   "id": "a6f20d72",
   "metadata": {},
   "outputs": [
    {
     "data": {
      "image/png": "[encoded data removed]",
      "text/plain": [
       "<Figure size 540x540 with 12 Axes>"
      ]
     },
     "metadata": {
      "needs_background": "light"
     },
     "output_type": "display_data"
    }
   ],
   "source": [
    "# Create a pair plot\n",
    "sns.pairplot(df, vars=[\"Gross int\", \"Star1\", \"IMDB_Rating\"])\n",
    "plt.show()"
   ]
  },
  {
   "cell_type": "markdown",
   "id": "f426a524",
   "metadata": {},
   "source": [
    "<b>Box Plot of Genres vs. Ratings"
   ]
  },
  {
   "cell_type": "code",
   "execution_count": 91,
   "id": "68632881",
   "metadata": {},
   "outputs": [
    {
     "data": {
      "image/png": "[encoded data removed]",
      "text/plain": [
       "<Figure size 432x288 with 1 Axes>"
      ]
     },
     "metadata": {
      "needs_background": "light"
     },
     "output_type": "display_data"
    }
   ],
   "source": [
    "# Creating a box plot\n",
    "sns.boxplot(x='IMDB_Rating', y='Genre', data=df)\n",
    "plt.title('IMDB_Rating Distribution by Genre')\n",
    "plt.show()"
   ]
  },
  {
   "cell_type": "markdown",
   "id": "0c5b1e3d",
   "metadata": {},
   "source": [
    "<b>Correlation Heatmap"
   ]
  },
  {
   "cell_type": "code",
   "execution_count": 92,
   "id": "39ab66f6",
   "metadata": {},
   "outputs": [
    {
     "data": {
      "image/png": "[encoded data removed]",
      "text/plain": [
       "<Figure size 432x288 with 2 Axes>"
      ]
     },
     "metadata": {
      "needs_background": "light"
     },
     "output_type": "display_data"
    }
   ],
   "source": [
    "# Calculating the correlation matrix\n",
    "df2 = df[['Gross int', 'No_of_Votes', 'IMDB_Rating', 'Meta_score']]\n",
    "correlation_matrix = df2.corr()\n",
    "\n",
    "# Create a heatmap\n",
    "sns.heatmap(correlation_matrix, annot=True, cmap='coolwarm')\n",
    "plt.title(\"Correlation Matrix Heatmap\")\n",
    "plt.show()"
   ]
  },
  {
   "cell_type": "code",
   "execution_count": null,
   "id": "64765c0a",
   "metadata": {},
   "outputs": [],
   "source": []
  }
 ],
 "metadata": {
  "kernelspec": {
   "display_name": "Python 3 (ipykernel)",
   "language": "python",
   "name": "python3"
  },
  "language_info": {
   "codemirror_mode": {
    "name": "ipython",
    "version": 3
   },
   "file_extension": ".py",
   "mimetype": "text/x-python",
   "name": "python",
   "nbconvert_exporter": "python",
   "pygments_lexer": "ipython3",
   "version": "3.9.12"
  }
 },
 "nbformat": 4,
 "nbformat_minor": 5
}
